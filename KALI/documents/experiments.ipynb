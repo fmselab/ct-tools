{
 "cells": [
  {
   "cell_type": "markdown",
   "metadata": {},
   "source": [
    "# Evaluation"
   ]
  },
  {
   "cell_type": "code",
   "execution_count": 1,
   "metadata": {},
   "outputs": [],
   "source": [
    "import matplotlib.pyplot as plt\n",
    "import numpy as np\n",
    "import pandas as pd\n",
    "from scipy import stats as st"
   ]
  },
  {
   "cell_type": "code",
   "execution_count": 2,
   "metadata": {},
   "outputs": [],
   "source": [
    "def remove_outlier(df_in, col_name):\n",
    "    q1 = df_in[col_name].quantile(0.25)\n",
    "    q3 = df_in[col_name].quantile(0.75)\n",
    "    iqr = q3-q1 #Interquartile range\n",
    "    fence_low  = q1-1.5*iqr\n",
    "    fence_high = q3+1.5*iqr\n",
    "    df_out = df_in.loc[(df_in[col_name] > fence_low) & (df_in[col_name] < fence_high)]\n",
    "    return df_out"
   ]
  },
  {
   "cell_type": "markdown",
   "metadata": {},
   "source": [
    "## Select only data from 32 Threads executions"
   ]
  },
  {
   "cell_type": "code",
   "execution_count": 3,
   "metadata": {},
   "outputs": [],
   "source": [
    "df = pd.read_csv ('output.csv', sep=';')"
   ]
  },
  {
   "cell_type": "code",
   "execution_count": 4,
   "metadata": {},
   "outputs": [],
   "source": [
    "df32 = df[df.nThreads.eq(32)]"
   ]
  },
  {
   "cell_type": "markdown",
   "metadata": {},
   "source": [
    "## Extract mean and st deviation"
   ]
  },
  {
   "cell_type": "code",
   "execution_count": 5,
   "metadata": {},
   "outputs": [
    {
     "name": "stdout",
     "output_type": "stream",
     "text": [
      "ADD_BOOLC_1.ctw;AS_DECLARED;W ORDER; $47 \\pm 2$ & $1,982 \\pm 100$\n",
      "ADD_BOOLC_1.ctw;AS_DECLARED;WO ORDER; $44 \\pm 2$ & $2,418 \\pm 799$\n",
      "ADD_BOOLC_1.ctw;IN_ORDER_SIZE_DESC;W ORDER; $47 \\pm 1$ & $1,979 \\pm 133$\n",
      "ADD_BOOLC_1.ctw;IN_ORDER_SIZE_DESC;WO ORDER; $46 \\pm 2$ & $1,935 \\pm 32$\n",
      "ADD_BOOLC_1.ctw;IN_ORDER_SIZE_ASC;W ORDER; $48 \\pm 2$ & $1,952 \\pm 78$\n",
      "ADD_BOOLC_1.ctw;IN_ORDER_SIZE_ASC;WO ORDER; $44 \\pm 1$ & $1,951 \\pm 76$\n",
      "ADD_BOOLC_1.ctw;RANDOM;W ORDER; $48 \\pm 1$ & $1,886 \\pm 46$\n",
      "ADD_BOOLC_1.ctw;RANDOM;WO ORDER; $44 \\pm 1$ & $1,936 \\pm 97$\n",
      "UNIFORM_ALL_1.ctw;AS_DECLARED;W ORDER; $867 \\pm 17$ & $31,200 \\pm 909$\n",
      "UNIFORM_ALL_1.ctw;AS_DECLARED;WO ORDER; $1,003 \\pm 24$ & $35,936 \\pm 1,189$\n",
      "UNIFORM_ALL_1.ctw;IN_ORDER_SIZE_DESC;W ORDER; $867 \\pm 13$ & $31,620 \\pm 914$\n",
      "UNIFORM_ALL_1.ctw;IN_ORDER_SIZE_DESC;WO ORDER; $986 \\pm 18$ & $34,332 \\pm 922$\n",
      "UNIFORM_ALL_1.ctw;IN_ORDER_SIZE_ASC;W ORDER; $868 \\pm 12$ & $30,669 \\pm 711$\n",
      "UNIFORM_ALL_1.ctw;IN_ORDER_SIZE_ASC;WO ORDER; $984 \\pm 10$ & $35,056 \\pm 1,056$\n",
      "UNIFORM_ALL_1.ctw;RANDOM;W ORDER; $872 \\pm 9$ & $31,437 \\pm 1,359$\n",
      "UNIFORM_ALL_1.ctw;RANDOM;WO ORDER; $1,001 \\pm 23$ & $35,682 \\pm 1,243$\n",
      "MCA_3.ctw;AS_DECLARED;W ORDER; $71 \\pm 2$ & $56 \\pm 4$\n",
      "MCA_3.ctw;AS_DECLARED;WO ORDER; $70 \\pm 2$ & $53 \\pm 4$\n",
      "MCA_3.ctw;IN_ORDER_SIZE_DESC;W ORDER; $70 \\pm 2$ & $57 \\pm 2$\n",
      "MCA_3.ctw;IN_ORDER_SIZE_DESC;WO ORDER; $70 \\pm 3$ & $53 \\pm 2$\n",
      "MCA_3.ctw;IN_ORDER_SIZE_ASC;W ORDER; $70 \\pm 3$ & $66 \\pm 8$\n",
      "MCA_3.ctw;IN_ORDER_SIZE_ASC;WO ORDER; $70 \\pm 1$ & $53 \\pm 2$\n",
      "MCA_3.ctw;RANDOM;W ORDER; $71 \\pm 2$ & $69 \\pm 26$\n",
      "MCA_3.ctw;RANDOM;WO ORDER; $71 \\pm 2$ & $67 \\pm 4$\n",
      "UNIFORM_BOOLEAN_3.ctw;AS_DECLARED;W ORDER; $16 \\pm 1$ & $16 \\pm 1$\n",
      "UNIFORM_BOOLEAN_3.ctw;AS_DECLARED;WO ORDER; $16 \\pm 1$ & $15 \\pm 1$\n",
      "UNIFORM_BOOLEAN_3.ctw;IN_ORDER_SIZE_DESC;W ORDER; $16 \\pm 2$ & $17 \\pm 2$\n",
      "UNIFORM_BOOLEAN_3.ctw;IN_ORDER_SIZE_DESC;WO ORDER; $16 \\pm 1$ & $14 \\pm 1$\n",
      "UNIFORM_BOOLEAN_3.ctw;IN_ORDER_SIZE_ASC;W ORDER; $16 \\pm 1$ & $16 \\pm 1$\n",
      "UNIFORM_BOOLEAN_3.ctw;IN_ORDER_SIZE_ASC;WO ORDER; $16 \\pm 1$ & $15 \\pm 1$\n",
      "UNIFORM_BOOLEAN_3.ctw;RANDOM;W ORDER; $16 \\pm 1$ & $16 \\pm 1$\n",
      "UNIFORM_BOOLEAN_3.ctw;RANDOM;WO ORDER; $15 \\pm 1$ & $14 \\pm 1$\n",
      "UNIFORM_ALL_3.ctw;AS_DECLARED;W ORDER; $157 \\pm 7$ & $632 \\pm 38$\n",
      "UNIFORM_ALL_3.ctw;AS_DECLARED;WO ORDER; $167 \\pm 5$ & $706 \\pm 43$\n",
      "UNIFORM_ALL_3.ctw;IN_ORDER_SIZE_DESC;W ORDER; $155 \\pm 6$ & $643 \\pm 27$\n",
      "UNIFORM_ALL_3.ctw;IN_ORDER_SIZE_DESC;WO ORDER; $168 \\pm 2$ & $672 \\pm 20$\n",
      "UNIFORM_ALL_3.ctw;IN_ORDER_SIZE_ASC;W ORDER; $154 \\pm 5$ & $600 \\pm 32$\n",
      "UNIFORM_ALL_3.ctw;IN_ORDER_SIZE_ASC;WO ORDER; $167 \\pm 3$ & $681 \\pm 49$\n",
      "UNIFORM_ALL_3.ctw;RANDOM;W ORDER; $159 \\pm 4$ & $618 \\pm 23$\n",
      "UNIFORM_ALL_3.ctw;RANDOM;WO ORDER; $166 \\pm 5$ & $656 \\pm 28$\n",
      "ADD_BOOLC_3.ctw;AS_DECLARED;W ORDER; $14 \\pm 1$ & $1,418 \\pm 57$\n",
      "ADD_BOOLC_3.ctw;AS_DECLARED;WO ORDER; $14 \\pm 2$ & $1,436 \\pm 69$\n",
      "ADD_BOOLC_3.ctw;IN_ORDER_SIZE_DESC;W ORDER; $13 \\pm 1$ & $1,362 \\pm 27$\n",
      "ADD_BOOLC_3.ctw;IN_ORDER_SIZE_DESC;WO ORDER; $13 \\pm 2$ & $1,417 \\pm 58$\n",
      "ADD_BOOLC_3.ctw;IN_ORDER_SIZE_ASC;W ORDER; $14 \\pm 2$ & $1,415 \\pm 70$\n",
      "ADD_BOOLC_3.ctw;IN_ORDER_SIZE_ASC;WO ORDER; $13 \\pm 1$ & $1,404 \\pm 50$\n",
      "ADD_BOOLC_3.ctw;RANDOM;W ORDER; $14 \\pm 2$ & $1,391 \\pm 53$\n",
      "ADD_BOOLC_3.ctw;RANDOM;WO ORDER; $15 \\pm 2$ & $1,468 \\pm 54$\n",
      "UNIFORM_BOOLEAN_4.ctw;AS_DECLARED;W ORDER; $16 \\pm 3$ & $12 \\pm 1$\n",
      "UNIFORM_BOOLEAN_4.ctw;AS_DECLARED;WO ORDER; $15 \\pm 1$ & $11 \\pm 1$\n",
      "UNIFORM_BOOLEAN_4.ctw;IN_ORDER_SIZE_DESC;W ORDER; $16 \\pm 2$ & $13 \\pm 1$\n",
      "UNIFORM_BOOLEAN_4.ctw;IN_ORDER_SIZE_DESC;WO ORDER; $16 \\pm 1$ & $12 \\pm 1$\n",
      "UNIFORM_BOOLEAN_4.ctw;IN_ORDER_SIZE_ASC;W ORDER; $16 \\pm 1$ & $13 \\pm 1$\n",
      "UNIFORM_BOOLEAN_4.ctw;IN_ORDER_SIZE_ASC;WO ORDER; $16 \\pm 1$ & $12 \\pm 1$\n",
      "UNIFORM_BOOLEAN_4.ctw;RANDOM;W ORDER; $16 \\pm 2$ & $13 \\pm 1$\n",
      "UNIFORM_BOOLEAN_4.ctw;RANDOM;WO ORDER; $16 \\pm 1$ & $12 \\pm 1$\n",
      "ADD_NUMC_4.ctw;AS_DECLARED;W ORDER; $337 \\pm 1$ & $1,553 \\pm 230$\n",
      "ADD_NUMC_4.ctw;AS_DECLARED;WO ORDER; $335 \\pm 1$ & $1,230 \\pm 177$\n",
      "ADD_NUMC_4.ctw;IN_ORDER_SIZE_DESC;W ORDER; $336 \\pm 1$ & $1,584 \\pm 209$\n",
      "ADD_NUMC_4.ctw;IN_ORDER_SIZE_DESC;WO ORDER; $336 \\pm 1$ & $1,240 \\pm 178$\n",
      "ADD_NUMC_4.ctw;IN_ORDER_SIZE_ASC;W ORDER; $336 \\pm 1$ & $1,644 \\pm 123$\n",
      "ADD_NUMC_4.ctw;IN_ORDER_SIZE_ASC;WO ORDER; $335 \\pm 1$ & $1,361 \\pm 202$\n",
      "ADD_NUMC_4.ctw;RANDOM;W ORDER; $336 \\pm 1$ & $1,694 \\pm 178$\n",
      "ADD_NUMC_4.ctw;RANDOM;WO ORDER; $336 \\pm 1$ & $1,300 \\pm 319$\n",
      "ADD_BOOLC_4.ctw;AS_DECLARED;W ORDER; $40 \\pm 2$ & $104 \\pm 9$\n",
      "ADD_BOOLC_4.ctw;AS_DECLARED;WO ORDER; $38 \\pm 3$ & $99 \\pm 8$\n",
      "ADD_BOOLC_4.ctw;IN_ORDER_SIZE_DESC;W ORDER; $40 \\pm 2$ & $103 \\pm 9$\n",
      "ADD_BOOLC_4.ctw;IN_ORDER_SIZE_DESC;WO ORDER; $39 \\pm 2$ & $106 \\pm 6$\n",
      "ADD_BOOLC_4.ctw;IN_ORDER_SIZE_ASC;W ORDER; $41 \\pm 2$ & $102 \\pm 9$\n",
      "ADD_BOOLC_4.ctw;IN_ORDER_SIZE_ASC;WO ORDER; $38 \\pm 1$ & $99 \\pm 4$\n",
      "ADD_BOOLC_4.ctw;RANDOM;W ORDER; $40 \\pm 2$ & $103 \\pm 8$\n",
      "ADD_BOOLC_4.ctw;RANDOM;WO ORDER; $38 \\pm 2$ & $104 \\pm 10$\n",
      "UNIFORM_ALL_0.ctw;AS_DECLARED;W ORDER; $498 \\pm 14$ & $3,646 \\pm 273$\n",
      "UNIFORM_ALL_0.ctw;AS_DECLARED;WO ORDER; $519 \\pm 15$ & $3,691 \\pm 155$\n",
      "UNIFORM_ALL_0.ctw;IN_ORDER_SIZE_DESC;W ORDER; $505 \\pm 13$ & $3,734 \\pm 233$\n",
      "UNIFORM_ALL_0.ctw;IN_ORDER_SIZE_DESC;WO ORDER; $525 \\pm 12$ & $3,771 \\pm 159$\n",
      "UNIFORM_ALL_0.ctw;IN_ORDER_SIZE_ASC;W ORDER; $506 \\pm 10$ & $3,684 \\pm 178$\n",
      "UNIFORM_ALL_0.ctw;IN_ORDER_SIZE_ASC;WO ORDER; $534 \\pm 12$ & $3,916 \\pm 124$\n",
      "UNIFORM_ALL_0.ctw;RANDOM;W ORDER; $502 \\pm 8$ & $3,630 \\pm 168$\n",
      "UNIFORM_ALL_0.ctw;RANDOM;WO ORDER; $524 \\pm 13$ & $3,862 \\pm 232$\n",
      "ADD_MCAC_4.ctw;AS_DECLARED;W ORDER; $586 \\pm 2$ & $1,950 \\pm 66$\n",
      "ADD_MCAC_4.ctw;AS_DECLARED;WO ORDER; $582 \\pm 1$ & $1,960 \\pm 201$\n",
      "ADD_MCAC_4.ctw;IN_ORDER_SIZE_DESC;W ORDER; $586 \\pm 2$ & $2,084 \\pm 222$\n",
      "ADD_MCAC_4.ctw;IN_ORDER_SIZE_DESC;WO ORDER; $583 \\pm 1$ & $1,906 \\pm 129$\n",
      "ADD_MCAC_4.ctw;IN_ORDER_SIZE_ASC;W ORDER; $587 \\pm 2$ & $2,088 \\pm 200$\n",
      "ADD_MCAC_4.ctw;IN_ORDER_SIZE_ASC;WO ORDER; $583 \\pm 2$ & $1,885 \\pm 168$\n",
      "ADD_MCAC_4.ctw;RANDOM;W ORDER; $586 \\pm 2$ & $2,064 \\pm 198$\n",
      "ADD_MCAC_4.ctw;RANDOM;WO ORDER; $583 \\pm 1$ & $1,820 \\pm 42$\n",
      "MCA_4.ctw;AS_DECLARED;W ORDER; $1,500 \\pm 2$ & $11,985 \\pm 497$\n",
      "MCA_4.ctw;AS_DECLARED;WO ORDER; $1,502 \\pm 3$ & $11,344 \\pm 375$\n",
      "MCA_4.ctw;IN_ORDER_SIZE_DESC;W ORDER; $1,499 \\pm 1$ & $12,174 \\pm 497$\n",
      "MCA_4.ctw;IN_ORDER_SIZE_DESC;WO ORDER; $1,501 \\pm 2$ & $11,430 \\pm 492$\n",
      "MCA_4.ctw;IN_ORDER_SIZE_ASC;W ORDER; $1,499 \\pm 2$ & $11,853 \\pm 433$\n",
      "MCA_4.ctw;IN_ORDER_SIZE_ASC;WO ORDER; $1,501 \\pm 2$ & $11,078 \\pm 314$\n",
      "MCA_4.ctw;RANDOM;W ORDER; $1,499 \\pm 2$ & $12,120 \\pm 537$\n",
      "MCA_4.ctw;RANDOM;WO ORDER; $1,500 \\pm 2$ & $11,583 \\pm 506$\n",
      "ADD_MCAC_1.ctw;AS_DECLARED;W ORDER; $16 \\pm 2$ & $1,261 \\pm 38$\n",
      "ADD_MCAC_1.ctw;AS_DECLARED;WO ORDER; $17 \\pm 1$ & $1,352 \\pm 42$\n",
      "ADD_MCAC_1.ctw;IN_ORDER_SIZE_DESC;W ORDER; $15 \\pm 1$ & $1,264 \\pm 47$\n",
      "ADD_MCAC_1.ctw;IN_ORDER_SIZE_DESC;WO ORDER; $17 \\pm 1$ & $1,295 \\pm 42$\n",
      "ADD_MCAC_1.ctw;IN_ORDER_SIZE_ASC;W ORDER; $16 \\pm 1$ & $1,256 \\pm 27$\n",
      "ADD_MCAC_1.ctw;IN_ORDER_SIZE_ASC;WO ORDER; $17 \\pm 1$ & $1,272 \\pm 41$\n",
      "ADD_MCAC_1.ctw;RANDOM;W ORDER; $16 \\pm 1$ & $1,257 \\pm 20$\n",
      "ADD_MCAC_1.ctw;RANDOM;WO ORDER; $18 \\pm 2$ & $1,292 \\pm 38$\n",
      "UNIFORM_ALL_2.ctw;AS_DECLARED;W ORDER; $144 \\pm 0$ & $23 \\pm 2$\n",
      "UNIFORM_ALL_2.ctw;AS_DECLARED;WO ORDER; $144 \\pm 0$ & $23 \\pm 3$\n",
      "UNIFORM_ALL_2.ctw;IN_ORDER_SIZE_DESC;W ORDER; $144 \\pm 0$ & $22 \\pm 1$\n",
      "UNIFORM_ALL_2.ctw;IN_ORDER_SIZE_DESC;WO ORDER; $144 \\pm 0$ & $23 \\pm 2$\n",
      "UNIFORM_ALL_2.ctw;IN_ORDER_SIZE_ASC;W ORDER; $144 \\pm 0$ & $27 \\pm 6$\n",
      "UNIFORM_ALL_2.ctw;IN_ORDER_SIZE_ASC;WO ORDER; $144 \\pm 0$ & $24 \\pm 3$\n",
      "UNIFORM_ALL_2.ctw;RANDOM;W ORDER; $144 \\pm 0$ & $24 \\pm 1$\n",
      "UNIFORM_ALL_2.ctw;RANDOM;WO ORDER; $144 \\pm 0$ & $24 \\pm 3$\n",
      "ADD_NUMC_2.ctw;AS_DECLARED;W ORDER; $6 \\pm 0$ & $1,650 \\pm 31$\n",
      "ADD_NUMC_2.ctw;AS_DECLARED;WO ORDER; $6 \\pm 1$ & $1,771 \\pm 385$\n",
      "ADD_NUMC_2.ctw;IN_ORDER_SIZE_DESC;W ORDER; $5 \\pm 1$ & $1,726 \\pm 28$\n",
      "ADD_NUMC_2.ctw;IN_ORDER_SIZE_DESC;WO ORDER; $6 \\pm 1$ & $1,708 \\pm 16$\n",
      "ADD_NUMC_2.ctw;IN_ORDER_SIZE_ASC;W ORDER; $5 \\pm 1$ & $1,685 \\pm 27$\n",
      "ADD_NUMC_2.ctw;IN_ORDER_SIZE_ASC;WO ORDER; $5 \\pm 0$ & $1,769 \\pm 82$\n",
      "ADD_NUMC_2.ctw;RANDOM;W ORDER; $5 \\pm 1$ & $1,682 \\pm 17$\n",
      "ADD_NUMC_2.ctw;RANDOM;WO ORDER; $6 \\pm 1$ & $1,693 \\pm 20$\n",
      "UNIFORM_BOOLEAN_2.ctw;AS_DECLARED;W ORDER; $16 \\pm 3$ & $11 \\pm 1$\n",
      "UNIFORM_BOOLEAN_2.ctw;AS_DECLARED;WO ORDER; $15 \\pm 1$ & $10 \\pm 1$\n",
      "UNIFORM_BOOLEAN_2.ctw;IN_ORDER_SIZE_DESC;W ORDER; $16 \\pm 2$ & $12 \\pm 2$\n",
      "UNIFORM_BOOLEAN_2.ctw;IN_ORDER_SIZE_DESC;WO ORDER; $15 \\pm 1$ & $10 \\pm 1$\n",
      "UNIFORM_BOOLEAN_2.ctw;IN_ORDER_SIZE_ASC;W ORDER; $14 \\pm 1$ & $11 \\pm 1$\n",
      "UNIFORM_BOOLEAN_2.ctw;IN_ORDER_SIZE_ASC;WO ORDER; $16 \\pm 2$ & $10 \\pm 1$\n",
      "UNIFORM_BOOLEAN_2.ctw;RANDOM;W ORDER; $16 \\pm 2$ & $11 \\pm 1$\n"
     ]
    },
    {
     "name": "stdout",
     "output_type": "stream",
     "text": [
      "UNIFORM_BOOLEAN_2.ctw;RANDOM;WO ORDER; $15 \\pm 1$ & $11 \\pm 1$\n",
      "ADD_NUMC_1.ctw;AS_DECLARED;W ORDER; $4,408 \\pm 28$ & $79,500 \\pm 1,230$\n",
      "ADD_NUMC_1.ctw;AS_DECLARED;WO ORDER; $4,458 \\pm 23$ & $54,438 \\pm 703$\n",
      "ADD_NUMC_1.ctw;IN_ORDER_SIZE_DESC;W ORDER; $4,419 \\pm 11$ & $80,156 \\pm 760$\n",
      "ADD_NUMC_1.ctw;IN_ORDER_SIZE_DESC;WO ORDER; $4,466 \\pm 23$ & $55,195 \\pm 1,048$\n",
      "ADD_NUMC_1.ctw;IN_ORDER_SIZE_ASC;W ORDER; $4,433 \\pm 25$ & $79,393 \\pm 878$\n",
      "ADD_NUMC_1.ctw;IN_ORDER_SIZE_ASC;WO ORDER; $4,460 \\pm 16$ & $54,753 \\pm 588$\n",
      "ADD_NUMC_1.ctw;RANDOM;W ORDER; $4,424 \\pm 25$ & $79,270 \\pm 821$\n",
      "ADD_NUMC_1.ctw;RANDOM;WO ORDER; $4,464 \\pm 23$ & $54,649 \\pm 653$\n",
      "UNIFORM_BOOLEAN_1.ctw;AS_DECLARED;W ORDER; $10 \\pm 1$ & $4 \\pm 1$\n",
      "UNIFORM_BOOLEAN_1.ctw;AS_DECLARED;WO ORDER; $11 \\pm 1$ & $4 \\pm 1$\n",
      "UNIFORM_BOOLEAN_1.ctw;IN_ORDER_SIZE_DESC;W ORDER; $11 \\pm 1$ & $5 \\pm 1$\n",
      "UNIFORM_BOOLEAN_1.ctw;IN_ORDER_SIZE_DESC;WO ORDER; $10 \\pm 0$ & $5 \\pm 1$\n",
      "UNIFORM_BOOLEAN_1.ctw;IN_ORDER_SIZE_ASC;W ORDER; $10 \\pm 1$ & $5 \\pm 0$\n",
      "UNIFORM_BOOLEAN_1.ctw;IN_ORDER_SIZE_ASC;WO ORDER; $11 \\pm 0$ & $5 \\pm 1$\n",
      "UNIFORM_BOOLEAN_1.ctw;RANDOM;W ORDER; $10 \\pm 1$ & $5 \\pm 0$\n",
      "UNIFORM_BOOLEAN_1.ctw;RANDOM;WO ORDER; $11 \\pm 1$ & $5 \\pm 1$\n",
      "ADD_BOOLC_0.ctw;AS_DECLARED;W ORDER; $46 \\pm 2$ & $2,018 \\pm 129$\n",
      "ADD_BOOLC_0.ctw;AS_DECLARED;WO ORDER; $44 \\pm 1$ & $2,088 \\pm 141$\n",
      "ADD_BOOLC_0.ctw;IN_ORDER_SIZE_DESC;W ORDER; $44 \\pm 2$ & $1,901 \\pm 60$\n",
      "ADD_BOOLC_0.ctw;IN_ORDER_SIZE_DESC;WO ORDER; $43 \\pm 2$ & $1,948 \\pm 121$\n",
      "ADD_BOOLC_0.ctw;IN_ORDER_SIZE_ASC;W ORDER; $45 \\pm 1$ & $1,920 \\pm 82$\n",
      "ADD_BOOLC_0.ctw;IN_ORDER_SIZE_ASC;WO ORDER; $44 \\pm 1$ & $1,965 \\pm 72$\n",
      "ADD_BOOLC_0.ctw;RANDOM;W ORDER; $46 \\pm 2$ & $1,930 \\pm 84$\n",
      "ADD_BOOLC_0.ctw;RANDOM;WO ORDER; $43 \\pm 2$ & $1,903 \\pm 80$\n",
      "ADD_MCAC_0.ctw;AS_DECLARED;W ORDER; $5 \\pm 1$ & $262 \\pm 14$\n",
      "ADD_MCAC_0.ctw;AS_DECLARED;WO ORDER; $4 \\pm 1$ & $255 \\pm 8$\n",
      "ADD_MCAC_0.ctw;IN_ORDER_SIZE_DESC;W ORDER; $5 \\pm 0$ & $259 \\pm 11$\n",
      "ADD_MCAC_0.ctw;IN_ORDER_SIZE_DESC;WO ORDER; $5 \\pm 0$ & $256 \\pm 10$\n",
      "ADD_MCAC_0.ctw;IN_ORDER_SIZE_ASC;W ORDER; $5 \\pm 1$ & $260 \\pm 12$\n",
      "ADD_MCAC_0.ctw;IN_ORDER_SIZE_ASC;WO ORDER; $5 \\pm 0$ & $260 \\pm 11$\n",
      "ADD_MCAC_0.ctw;RANDOM;W ORDER; $5 \\pm 1$ & $261 \\pm 18$\n",
      "ADD_MCAC_0.ctw;RANDOM;WO ORDER; $5 \\pm 0$ & $255 \\pm 9$\n",
      "ADD_NUMC_3.ctw;AS_DECLARED;W ORDER; $3,138 \\pm 19$ & $76,557 \\pm 841$\n",
      "ADD_NUMC_3.ctw;AS_DECLARED;WO ORDER; $3,279 \\pm 22$ & $84,195 \\pm 893$\n",
      "ADD_NUMC_3.ctw;IN_ORDER_SIZE_DESC;W ORDER; $3,149 \\pm 16$ & $76,786 \\pm 389$\n",
      "ADD_NUMC_3.ctw;IN_ORDER_SIZE_DESC;WO ORDER; $3,263 \\pm 21$ & $84,451 \\pm 583$\n",
      "ADD_NUMC_3.ctw;IN_ORDER_SIZE_ASC;W ORDER; $3,151 \\pm 17$ & $77,466 \\pm 337$\n",
      "ADD_NUMC_3.ctw;IN_ORDER_SIZE_ASC;WO ORDER; $3,273 \\pm 29$ & $84,699 \\pm 842$\n",
      "ADD_NUMC_3.ctw;RANDOM;W ORDER; $3,148 \\pm 16$ & $76,712 \\pm 877$\n",
      "ADD_NUMC_3.ctw;RANDOM;WO ORDER; $3,274 \\pm 27$ & $84,541 \\pm 952$\n",
      "MCA_0.ctw;AS_DECLARED;W ORDER; $1,424 \\pm 1$ & $10,176 \\pm 250$\n",
      "MCA_0.ctw;AS_DECLARED;WO ORDER; $1,424 \\pm 2$ & $9,685 \\pm 468$\n",
      "MCA_0.ctw;IN_ORDER_SIZE_DESC;W ORDER; $1,424 \\pm 2$ & $10,137 \\pm 365$\n",
      "MCA_0.ctw;IN_ORDER_SIZE_DESC;WO ORDER; $1,425 \\pm 2$ & $9,586 \\pm 320$\n",
      "MCA_0.ctw;IN_ORDER_SIZE_ASC;W ORDER; $1,424 \\pm 2$ & $10,186 \\pm 294$\n",
      "MCA_0.ctw;IN_ORDER_SIZE_ASC;WO ORDER; $1,425 \\pm 1$ & $9,608 \\pm 254$\n",
      "MCA_0.ctw;RANDOM;W ORDER; $1,423 \\pm 2$ & $10,252 \\pm 309$\n",
      "MCA_0.ctw;RANDOM;WO ORDER; $1,424 \\pm 3$ & $9,651 \\pm 438$\n",
      "ADD_MCAC_3.ctw;AS_DECLARED;W ORDER; $1,808 \\pm 16$ & $31,449 \\pm 458$\n",
      "ADD_MCAC_3.ctw;AS_DECLARED;WO ORDER; $1,817 \\pm 12$ & $36,288 \\pm 1,542$\n",
      "ADD_MCAC_3.ctw;IN_ORDER_SIZE_DESC;W ORDER; $1,816 \\pm 18$ & $31,188 \\pm 397$\n",
      "ADD_MCAC_3.ctw;IN_ORDER_SIZE_DESC;WO ORDER; $1,825 \\pm 14$ & $35,138 \\pm 422$\n",
      "ADD_MCAC_3.ctw;IN_ORDER_SIZE_ASC;W ORDER; $1,822 \\pm 12$ & $31,620 \\pm 348$\n",
      "ADD_MCAC_3.ctw;IN_ORDER_SIZE_ASC;WO ORDER; $1,822 \\pm 16$ & $35,940 \\pm 494$\n",
      "ADD_MCAC_3.ctw;RANDOM;W ORDER; $1,821 \\pm 13$ & $31,610 \\pm 367$\n",
      "ADD_MCAC_3.ctw;RANDOM;WO ORDER; $1,817 \\pm 19$ & $36,022 \\pm 817$\n",
      "ADD_BOOLC_2.ctw;AS_DECLARED;W ORDER; $29 \\pm 1$ & $1,530 \\pm 89$\n",
      "ADD_BOOLC_2.ctw;AS_DECLARED;WO ORDER; $29 \\pm 1$ & $1,695 \\pm 98$\n",
      "ADD_BOOLC_2.ctw;IN_ORDER_SIZE_DESC;W ORDER; $28 \\pm 2$ & $1,496 \\pm 75$\n",
      "ADD_BOOLC_2.ctw;IN_ORDER_SIZE_DESC;WO ORDER; $30 \\pm 2$ & $1,623 \\pm 62$\n",
      "ADD_BOOLC_2.ctw;IN_ORDER_SIZE_ASC;W ORDER; $29 \\pm 1$ & $1,535 \\pm 69$\n",
      "ADD_BOOLC_2.ctw;IN_ORDER_SIZE_ASC;WO ORDER; $31 \\pm 1$ & $1,672 \\pm 84$\n",
      "ADD_BOOLC_2.ctw;RANDOM;W ORDER; $30 \\pm 2$ & $1,573 \\pm 58$\n",
      "ADD_BOOLC_2.ctw;RANDOM;WO ORDER; $29 \\pm 2$ & $1,622 \\pm 106$\n",
      "ADD_MCAC_2.ctw;AS_DECLARED;W ORDER; $2,253 \\pm 11$ & $36,043 \\pm 441$\n",
      "ADD_MCAC_2.ctw;AS_DECLARED;WO ORDER; $2,212 \\pm 21$ & $35,505 \\pm 610$\n",
      "ADD_MCAC_2.ctw;IN_ORDER_SIZE_DESC;W ORDER; $2,253 \\pm 20$ & $35,827 \\pm 386$\n",
      "ADD_MCAC_2.ctw;IN_ORDER_SIZE_DESC;WO ORDER; $2,200 \\pm 13$ & $35,408 \\pm 339$\n",
      "ADD_MCAC_2.ctw;IN_ORDER_SIZE_ASC;W ORDER; $2,248 \\pm 16$ & $35,798 \\pm 341$\n",
      "ADD_MCAC_2.ctw;IN_ORDER_SIZE_ASC;WO ORDER; $2,206 \\pm 17$ & $35,390 \\pm 536$\n",
      "ADD_MCAC_2.ctw;RANDOM;W ORDER; $2,244 \\pm 14$ & $35,675 \\pm 477$\n",
      "ADD_MCAC_2.ctw;RANDOM;WO ORDER; $2,209 \\pm 20$ & $35,448 \\pm 346$\n",
      "MCA_1.ctw;AS_DECLARED;W ORDER; $2,407 \\pm 20$ & $62,660 \\pm 797$\n",
      "MCA_1.ctw;AS_DECLARED;WO ORDER; $2,339 \\pm 24$ & $59,277 \\pm 726$\n",
      "MCA_1.ctw;IN_ORDER_SIZE_DESC;W ORDER; $2,426 \\pm 20$ & $62,856 \\pm 698$\n",
      "MCA_1.ctw;IN_ORDER_SIZE_DESC;WO ORDER; $2,338 \\pm 22$ & $60,112 \\pm 648$\n",
      "MCA_1.ctw;IN_ORDER_SIZE_ASC;W ORDER; $2,421 \\pm 13$ & $63,522 \\pm 500$\n",
      "MCA_1.ctw;IN_ORDER_SIZE_ASC;WO ORDER; $2,320 \\pm 18$ & $59,539 \\pm 1,041$\n",
      "MCA_1.ctw;RANDOM;W ORDER; $2,414 \\pm 25$ & $64,139 \\pm 680$\n",
      "MCA_1.ctw;RANDOM;WO ORDER; $2,330 \\pm 21$ & $60,131 \\pm 1,006$\n",
      "MCA_2.ctw;AS_DECLARED;W ORDER; $1,390 \\pm 4$ & $15,721 \\pm 389$\n",
      "MCA_2.ctw;AS_DECLARED;WO ORDER; $1,397 \\pm 4$ & $14,266 \\pm 378$\n",
      "MCA_2.ctw;IN_ORDER_SIZE_DESC;W ORDER; $1,391 \\pm 5$ & $16,054 \\pm 450$\n",
      "MCA_2.ctw;IN_ORDER_SIZE_DESC;WO ORDER; $1,399 \\pm 10$ & $14,020 \\pm 482$\n",
      "MCA_2.ctw;IN_ORDER_SIZE_ASC;W ORDER; $1,474 \\pm 9$ & $15,356 \\pm 333$\n",
      "MCA_2.ctw;IN_ORDER_SIZE_ASC;WO ORDER; $1,469 \\pm 5$ & $13,840 \\pm 181$\n",
      "MCA_2.ctw;RANDOM;W ORDER; $1,442 \\pm 41$ & $15,654 \\pm 217$\n",
      "MCA_2.ctw;RANDOM;WO ORDER; $1,428 \\pm 40$ & $14,080 \\pm 362$\n",
      "UNIFORM_BOOLEAN_0.ctw;AS_DECLARED;W ORDER; $15 \\pm 1$ & $8 \\pm 1$\n",
      "UNIFORM_BOOLEAN_0.ctw;AS_DECLARED;WO ORDER; $14 \\pm 2$ & $19 \\pm 40$\n",
      "UNIFORM_BOOLEAN_0.ctw;IN_ORDER_SIZE_DESC;W ORDER; $15 \\pm 2$ & $7 \\pm 1$\n",
      "UNIFORM_BOOLEAN_0.ctw;IN_ORDER_SIZE_DESC;WO ORDER; $19 \\pm 6$ & $7 \\pm 2$\n",
      "UNIFORM_BOOLEAN_0.ctw;IN_ORDER_SIZE_ASC;W ORDER; $15 \\pm 2$ & $8 \\pm 1$\n",
      "UNIFORM_BOOLEAN_0.ctw;IN_ORDER_SIZE_ASC;WO ORDER; $15 \\pm 2$ & $7 \\pm 1$\n",
      "UNIFORM_BOOLEAN_0.ctw;RANDOM;W ORDER; $21 \\pm 6$ & $12 \\pm 8$\n",
      "UNIFORM_BOOLEAN_0.ctw;RANDOM;WO ORDER; $25 \\pm 6$ & $11 \\pm 2$\n",
      "ADD_NUMC_0.ctw;AS_DECLARED;W ORDER; $-1 \\pm 0$ & $300,000 \\pm 0$\n",
      "ADD_NUMC_0.ctw;AS_DECLARED;WO ORDER; $-1 \\pm 0$ & $300,000 \\pm 0$\n",
      "ADD_NUMC_0.ctw;IN_ORDER_SIZE_DESC;W ORDER; $-1 \\pm 0$ & $300,000 \\pm 0$\n",
      "ADD_NUMC_0.ctw;IN_ORDER_SIZE_DESC;WO ORDER; $-1 \\pm 0$ & $300,000 \\pm 0$\n",
      "ADD_NUMC_0.ctw;IN_ORDER_SIZE_ASC;W ORDER; $-1 \\pm 0$ & $300,000 \\pm 0$\n",
      "ADD_NUMC_0.ctw;IN_ORDER_SIZE_ASC;WO ORDER; $-1 \\pm 0$ & $300,000 \\pm 0$\n",
      "ADD_NUMC_0.ctw;RANDOM;W ORDER; $-1 \\pm 0$ & $300,000 \\pm 0$\n",
      "ADD_NUMC_0.ctw;RANDOM;WO ORDER; $-1 \\pm 0$ & $300,000 \\pm 0$\n",
      "UNIFORM_ALL_4.ctw;AS_DECLARED;W ORDER; $559 \\pm 6$ & $950 \\pm 66$\n",
      "UNIFORM_ALL_4.ctw;AS_DECLARED;WO ORDER; $561 \\pm 4$ & $1,168 \\pm 600$\n",
      "UNIFORM_ALL_4.ctw;IN_ORDER_SIZE_DESC;W ORDER; $559 \\pm 4$ & $898 \\pm 56$\n",
      "UNIFORM_ALL_4.ctw;IN_ORDER_SIZE_DESC;WO ORDER; $558 \\pm 8$ & $967 \\pm 131$\n",
      "UNIFORM_ALL_4.ctw;IN_ORDER_SIZE_ASC;W ORDER; $558 \\pm 12$ & $886 \\pm 67$\n",
      "UNIFORM_ALL_4.ctw;IN_ORDER_SIZE_ASC;WO ORDER; $558 \\pm 6$ & $907 \\pm 69$\n",
      "UNIFORM_ALL_4.ctw;RANDOM;W ORDER; $560 \\pm 6$ & $927 \\pm 74$\n",
      "UNIFORM_ALL_4.ctw;RANDOM;WO ORDER; $561 \\pm 5$ & $931 \\pm 47$\n"
     ]
    }
   ],
   "source": [
    "file_name_list = df32.fileName.unique()\n",
    "ordering_type_list = df32.orderingType.unique()\n",
    "summary_values_df32 = pd.DataFrame(columns=[\"modelName\", \"orderType\", \"sorting\", \"sizeMean\", \"sizeStd\", \"timeMean\", \"timeStd\"])\n",
    "\n",
    "for fileName in file_name_list:\n",
    "    filtered_df_on_name = df32[df32.fileName.eq(fileName)]\n",
    "    for orderType in ordering_type_list:\n",
    "        filtered_df_on_ord_type = filtered_df_on_name[filtered_df_on_name.orderingType.eq(orderType)]\n",
    "        \n",
    "        # With sorting\n",
    "        filtered_df_on_ord_type2 = filtered_df_on_ord_type[filtered_df_on_ord_type.isSortingEnabled.eq(True)]\n",
    "        if filtered_df_on_ord_type2.shape[0] > 0:\n",
    "            print(fileName.split('/')[-1] + \";\" + orderType + \";\" + \"W ORDER; $\" + \\\n",
    "                  str('{:0,.0f}'.format(round(filtered_df_on_ord_type2.groupby('fileName')['size'].mean()[0],0))) + \" \\pm \" + \\\n",
    "                  str('{:0,.0f}'.format(round(filtered_df_on_ord_type2.groupby('fileName')['size'].std()[0],0))) + \"$ & $\" + \\\n",
    "                  str('{:0,.0f}'.format(round(filtered_df_on_ord_type2.groupby('fileName')['time'].mean()[0],0))) + \" \\pm \" + \\\n",
    "                  str('{:0,.0f}'.format(round(filtered_df_on_ord_type2.groupby('fileName')['time'].std()[0],0))) + \"$\")\n",
    "            \n",
    "            summary_values_df32 = summary_values_df32.append({\n",
    "                  \"modelName\": fileName.split('/')[-1],\n",
    "                  \"orderType\":  orderType,\n",
    "                  \"sorting\":  \"W ORDER\",\n",
    "                  \"sizeMean\":  filtered_df_on_ord_type2.groupby('fileName')['size'].mean()[0],\n",
    "                  \"sizeStd\":  filtered_df_on_ord_type2.groupby('fileName')['size'].std()[0],\n",
    "                  \"timeMean\":  filtered_df_on_ord_type2.groupby('fileName')['time'].mean()[0],\n",
    "                  \"timeStd\":  filtered_df_on_ord_type2.groupby('fileName')['time'].std()[0]\n",
    "                  }, ignore_index=True)\n",
    "        \n",
    "        # Without sorting\n",
    "        filtered_df_on_ord_type2 = filtered_df_on_ord_type[filtered_df_on_ord_type.isSortingEnabled.eq(False)]\n",
    "        if filtered_df_on_ord_type2.shape[0] > 0:\n",
    "            print(fileName.split('/')[-1] + \";\" + orderType + \";\" + \"WO ORDER; $\" + \\\n",
    "                  str('{:0,.0f}'.format(round(filtered_df_on_ord_type2.groupby('fileName')['size'].mean()[0],0))) + \" \\pm \" + \\\n",
    "                  str('{:0,.0f}'.format(round(filtered_df_on_ord_type2.groupby('fileName')['size'].std()[0],0))) + \"$ & $\" + \\\n",
    "                  str('{:0,.0f}'.format(round(filtered_df_on_ord_type2.groupby('fileName')['time'].mean()[0],0))) + \" \\pm \" + \\\n",
    "                  str('{:0,.0f}'.format(round(filtered_df_on_ord_type2.groupby('fileName')['time'].std()[0],0))) + \"$\")\n",
    "            \n",
    "            summary_values_df32 = summary_values_df32.append({\n",
    "                  \"modelName\": fileName.split('/')[-1],\n",
    "                  \"orderType\":  orderType,\n",
    "                  \"sorting\":  \"WO ORDER\",\n",
    "                  \"sizeMean\":  filtered_df_on_ord_type2.groupby('fileName')['size'].mean()[0],\n",
    "                  \"sizeStd\":  filtered_df_on_ord_type2.groupby('fileName')['size'].std()[0],\n",
    "                  \"timeMean\":  filtered_df_on_ord_type2.groupby('fileName')['time'].mean()[0],\n",
    "                  \"timeStd\":  filtered_df_on_ord_type2.groupby('fileName')['time'].std()[0]\n",
    "                  }, ignore_index=True)"
   ]
  },
  {
   "cell_type": "markdown",
   "metadata": {},
   "source": [
    "## RQ1: Impact of solver type"
   ]
  },
  {
   "cell_type": "markdown",
   "metadata": {},
   "source": [
    "### Impact on time"
   ]
  },
  {
   "cell_type": "code",
   "execution_count": 6,
   "metadata": {},
   "outputs": [
    {
     "data": {
      "text/plain": [
       "Text(0, 0.5, 'Generation time [ms]')"
      ]
     },
     "execution_count": 6,
     "metadata": {},
     "output_type": "execute_result"
    },
    {
     "data": {
      "image/png": "[encoded data removed]",
      "text/plain": [
       "<Figure size 432x288 with 1 Axes>"
      ]
     },
     "metadata": {
      "needs_background": "light"
     },
     "output_type": "display_data"
    }
   ],
   "source": [
    "dfsolver = pd.read_csv ('output_solvers.csv', sep=';')\n",
    "\n",
    "summary_values_time_solver = pd.DataFrame(columns=[\"Z3\", \"SMTINTERPOL\", \"PRINCESS\"])\n",
    "summary_values_size_solver = pd.DataFrame(columns=[\"Z3\", \"SMTINTERPOL\", \"PRINCESS\"])\n",
    "\n",
    "summary_values_time_solver.loc[:,'Z3'] = dfsolver[dfsolver.solver.eq('Z3')]['time'].to_numpy().tolist()\n",
    "summary_values_time_solver.loc[:,'SMTINTERPOL'] = dfsolver[dfsolver.solver.eq('SMTINTERPOL')]['time'].to_numpy().tolist()\n",
    "summary_values_time_solver.loc[:,'PRINCESS'] = dfsolver[dfsolver.solver.eq('PRINCESS')]['time'].to_numpy().tolist()\n",
    "\n",
    "boxplot = remove_outlier(remove_outlier(summary_values_time_solver,'Z3'), 'SMTINTERPOL').boxplot(column=[\"Z3\", \"SMTINTERPOL\", \"PRINCESS\"], grid=False)  \n",
    "\n",
    "boxplot.set_xlabel(\"SMT Solver\")\n",
    "boxplot.set_ylabel(\"Generation time [ms]\")"
   ]
  },
  {
   "cell_type": "markdown",
   "metadata": {},
   "source": [
    "### Impact on size"
   ]
  },
  {
   "cell_type": "code",
   "execution_count": 7,
   "metadata": {},
   "outputs": [
    {
     "data": {
      "text/plain": [
       "Text(0, 0.5, 'Test suite size')"
      ]
     },
     "execution_count": 7,
     "metadata": {},
     "output_type": "execute_result"
    },
    {
     "data": {
      "image/png": "[encoded data removed]",
      "text/plain": [
       "<Figure size 432x288 with 1 Axes>"
      ]
     },
     "metadata": {
      "needs_background": "light"
     },
     "output_type": "display_data"
    }
   ],
   "source": [
    "summary_values_size_solver.loc[:,'Z3'] = dfsolver[dfsolver.solver.eq('Z3')]['size'].to_numpy().tolist()\n",
    "summary_values_size_solver.loc[:,'SMTINTERPOL'] = dfsolver[dfsolver.solver.eq('SMTINTERPOL')]['size'].to_numpy().tolist()\n",
    "summary_values_size_solver.loc[:,'PRINCESS'] = dfsolver[dfsolver.solver.eq('PRINCESS')]['size'].to_numpy().tolist()\n",
    "\n",
    "boxplot = remove_outlier(remove_outlier(summary_values_size_solver,'PRINCESS'), 'SMTINTERPOL').boxplot(column=[\"Z3\", \"SMTINTERPOL\", \"PRINCESS\"], grid=False)  \n",
    "boxplot.set_xlabel(\"SMT Solver\")\n",
    "boxplot.set_ylabel(\"Test suite size\")"
   ]
  },
  {
   "cell_type": "markdown",
   "metadata": {},
   "source": [
    "## RQ2: Test for the impact of the order of the parameters"
   ]
  },
  {
   "cell_type": "markdown",
   "metadata": {},
   "source": [
    "### Impact on size"
   ]
  },
  {
   "cell_type": "code",
   "execution_count": 8,
   "metadata": {},
   "outputs": [
    {
     "data": {
      "text/plain": [
       "Ttest_relResult(statistic=-0.9739007026857806, pvalue=0.33049896559592473)"
      ]
     },
     "execution_count": 8,
     "metadata": {},
     "output_type": "execute_result"
    }
   ],
   "source": [
    "as_declared = df32.loc[df32['orderingType'] == 'AS_DECLARED', 'size'].to_numpy()\n",
    "in_order_size_desc = df32.loc[df32['orderingType'] == 'IN_ORDER_SIZE_DESC', 'size'].to_numpy()\n",
    "in_order_size_asc = df32.loc[df32['orderingType'] == 'IN_ORDER_SIZE_ASC', 'size'].to_numpy()\n",
    "random = df32.loc[df32['orderingType'] == 'RANDOM', 'size'].to_numpy()\n",
    "st.ttest_rel(a=as_declared, b=in_order_size_desc)"
   ]
  },
  {
   "cell_type": "code",
   "execution_count": 9,
   "metadata": {},
   "outputs": [
    {
     "data": {
      "text/plain": [
       "WilcoxonResult(statistic=59004.5, pvalue=0.40965726512179157)"
      ]
     },
     "execution_count": 9,
     "metadata": {},
     "output_type": "execute_result"
    }
   ],
   "source": [
    "st.wilcoxon(as_declared, in_order_size_desc)"
   ]
  },
  {
   "cell_type": "code",
   "execution_count": 10,
   "metadata": {},
   "outputs": [
    {
     "data": {
      "text/plain": [
       "Ttest_relResult(statistic=-4.004276994545517, pvalue=7.002361831419908e-05)"
      ]
     },
     "execution_count": 10,
     "metadata": {},
     "output_type": "execute_result"
    }
   ],
   "source": [
    "st.ttest_rel(a=as_declared, b=in_order_size_asc)"
   ]
  },
  {
   "cell_type": "code",
   "execution_count": 11,
   "metadata": {},
   "outputs": [
    {
     "data": {
      "text/plain": [
       "WilcoxonResult(statistic=51338.5, pvalue=0.013623924886456237)"
      ]
     },
     "execution_count": 11,
     "metadata": {},
     "output_type": "execute_result"
    }
   ],
   "source": [
    "st.wilcoxon(as_declared, in_order_size_asc)"
   ]
  },
  {
   "cell_type": "code",
   "execution_count": 12,
   "metadata": {},
   "outputs": [
    {
     "data": {
      "text/plain": [
       "Ttest_relResult(statistic=-3.455912178574076, pvalue=0.000587248375506362)"
      ]
     },
     "execution_count": 12,
     "metadata": {},
     "output_type": "execute_result"
    }
   ],
   "source": [
    "st.ttest_rel(a=as_declared, b=random)"
   ]
  },
  {
   "cell_type": "code",
   "execution_count": 13,
   "metadata": {},
   "outputs": [
    {
     "data": {
      "text/plain": [
       "WilcoxonResult(statistic=47436.5, pvalue=0.00367490821012267)"
      ]
     },
     "execution_count": 13,
     "metadata": {},
     "output_type": "execute_result"
    }
   ],
   "source": [
    "st.wilcoxon(as_declared, random)"
   ]
  },
  {
   "cell_type": "code",
   "execution_count": 14,
   "metadata": {},
   "outputs": [
    {
     "data": {
      "text/plain": [
       "Ttest_relResult(statistic=-3.5776293698104467, pvalue=0.000374752630016079)"
      ]
     },
     "execution_count": 14,
     "metadata": {},
     "output_type": "execute_result"
    }
   ],
   "source": [
    "st.ttest_rel(a=in_order_size_desc, b=in_order_size_asc)"
   ]
  },
  {
   "cell_type": "code",
   "execution_count": 15,
   "metadata": {},
   "outputs": [
    {
     "data": {
      "text/plain": [
       "WilcoxonResult(statistic=49756.0, pvalue=0.22106244311147194)"
      ]
     },
     "execution_count": 15,
     "metadata": {},
     "output_type": "execute_result"
    }
   ],
   "source": [
    "st.wilcoxon(in_order_size_desc, in_order_size_asc)"
   ]
  },
  {
   "cell_type": "code",
   "execution_count": 16,
   "metadata": {},
   "outputs": [
    {
     "data": {
      "text/plain": [
       "Ttest_relResult(statistic=-2.66008656509135, pvalue=0.008021231399544785)"
      ]
     },
     "execution_count": 16,
     "metadata": {},
     "output_type": "execute_result"
    }
   ],
   "source": [
    "st.ttest_rel(a=in_order_size_desc, b=random)"
   ]
  },
  {
   "cell_type": "code",
   "execution_count": 17,
   "metadata": {},
   "outputs": [
    {
     "data": {
      "text/plain": [
       "WilcoxonResult(statistic=47898.0, pvalue=0.005950885759777512)"
      ]
     },
     "execution_count": 17,
     "metadata": {},
     "output_type": "execute_result"
    }
   ],
   "source": [
    "st.wilcoxon(in_order_size_desc, random)"
   ]
  },
  {
   "cell_type": "code",
   "execution_count": 18,
   "metadata": {
    "scrolled": true
   },
   "outputs": [
    {
     "data": {
      "text/plain": [
       "Ttest_relResult(statistic=1.3101307359609187, pvalue=0.19065379073508146)"
      ]
     },
     "execution_count": 18,
     "metadata": {},
     "output_type": "execute_result"
    }
   ],
   "source": [
    "st.ttest_rel(a=in_order_size_asc, b=random)"
   ]
  },
  {
   "cell_type": "code",
   "execution_count": 19,
   "metadata": {},
   "outputs": [
    {
     "data": {
      "text/plain": [
       "WilcoxonResult(statistic=56290.5, pvalue=0.5827419046756934)"
      ]
     },
     "execution_count": 19,
     "metadata": {},
     "output_type": "execute_result"
    }
   ],
   "source": [
    "st.wilcoxon(in_order_size_asc, random)"
   ]
  },
  {
   "cell_type": "code",
   "execution_count": 20,
   "metadata": {},
   "outputs": [
    {
     "name": "stdout",
     "output_type": "stream",
     "text": [
      "731.6166666666667\n",
      "732.1483333333333\n",
      "734.7766666666666\n",
      "733.9433333333334\n"
     ]
    }
   ],
   "source": [
    "print (np.mean(as_declared))\n",
    "print (np.mean(in_order_size_desc))\n",
    "print (np.mean(in_order_size_asc))\n",
    "print (np.mean(random))"
   ]
  },
  {
   "cell_type": "markdown",
   "metadata": {},
   "source": [
    "### Impact on time"
   ]
  },
  {
   "cell_type": "code",
   "execution_count": 21,
   "metadata": {},
   "outputs": [
    {
     "data": {
      "text/plain": [
       "Ttest_relResult(statistic=0.46096311377187726, pvalue=0.6449923890261806)"
      ]
     },
     "execution_count": 21,
     "metadata": {},
     "output_type": "execute_result"
    }
   ],
   "source": [
    "as_declared = df32.loc[df32['orderingType'] == 'AS_DECLARED', 'time'].to_numpy()\n",
    "in_order_size_desc = df32.loc[df32['orderingType'] == 'IN_ORDER_SIZE_DESC', 'time'].to_numpy()\n",
    "in_order_size_asc = df32.loc[df32['orderingType'] == 'IN_ORDER_SIZE_ASC', 'time'].to_numpy()\n",
    "random = df32.loc[df32['orderingType'] == 'RANDOM', 'time'].to_numpy()\n",
    "st.ttest_rel(a=as_declared, b=in_order_size_desc)"
   ]
  },
  {
   "cell_type": "code",
   "execution_count": 22,
   "metadata": {},
   "outputs": [
    {
     "data": {
      "text/plain": [
       "WilcoxonResult(statistic=69634.5, pvalue=0.19568594112230653)"
      ]
     },
     "execution_count": 22,
     "metadata": {},
     "output_type": "execute_result"
    }
   ],
   "source": [
    "st.wilcoxon(as_declared, in_order_size_desc)"
   ]
  },
  {
   "cell_type": "code",
   "execution_count": 23,
   "metadata": {},
   "outputs": [
    {
     "data": {
      "text/plain": [
       "Ttest_relResult(statistic=0.809277459199439, pvalue=0.41867690520749234)"
      ]
     },
     "execution_count": 23,
     "metadata": {},
     "output_type": "execute_result"
    }
   ],
   "source": [
    "st.ttest_rel(a=as_declared, b=in_order_size_asc)"
   ]
  },
  {
   "cell_type": "code",
   "execution_count": 24,
   "metadata": {},
   "outputs": [
    {
     "data": {
      "text/plain": [
       "WilcoxonResult(statistic=71252.5, pvalue=0.7303689650873363)"
      ]
     },
     "execution_count": 24,
     "metadata": {},
     "output_type": "execute_result"
    }
   ],
   "source": [
    "st.wilcoxon(as_declared, in_order_size_asc)"
   ]
  },
  {
   "cell_type": "code",
   "execution_count": 25,
   "metadata": {
    "scrolled": true
   },
   "outputs": [
    {
     "data": {
      "text/plain": [
       "Ttest_relResult(statistic=-0.9204610323776221, pvalue=0.35770242779921657)"
      ]
     },
     "execution_count": 25,
     "metadata": {},
     "output_type": "execute_result"
    }
   ],
   "source": [
    "st.ttest_rel(a=as_declared, b=random)"
   ]
  },
  {
   "cell_type": "code",
   "execution_count": 26,
   "metadata": {},
   "outputs": [
    {
     "data": {
      "text/plain": [
       "WilcoxonResult(statistic=73278.5, pvalue=0.7068130792061351)"
      ]
     },
     "execution_count": 26,
     "metadata": {},
     "output_type": "execute_result"
    }
   ],
   "source": [
    "st.wilcoxon(as_declared, random)"
   ]
  },
  {
   "cell_type": "code",
   "execution_count": 27,
   "metadata": {
    "scrolled": true
   },
   "outputs": [
    {
     "data": {
      "text/plain": [
       "Ttest_relResult(statistic=0.29527426229627235, pvalue=0.7678866945314151)"
      ]
     },
     "execution_count": 27,
     "metadata": {},
     "output_type": "execute_result"
    }
   ],
   "source": [
    "st.ttest_rel(a=in_order_size_desc, b=in_order_size_asc)"
   ]
  },
  {
   "cell_type": "code",
   "execution_count": 28,
   "metadata": {},
   "outputs": [
    {
     "data": {
      "text/plain": [
       "WilcoxonResult(statistic=71071.0, pvalue=0.8626054390406164)"
      ]
     },
     "execution_count": 28,
     "metadata": {},
     "output_type": "execute_result"
    }
   ],
   "source": [
    "st.wilcoxon(in_order_size_desc, in_order_size_asc)"
   ]
  },
  {
   "cell_type": "code",
   "execution_count": 29,
   "metadata": {},
   "outputs": [
    {
     "data": {
      "text/plain": [
       "Ttest_relResult(statistic=-1.4680002368484895, pvalue=0.14262904891063985)"
      ]
     },
     "execution_count": 29,
     "metadata": {},
     "output_type": "execute_result"
    }
   ],
   "source": [
    "st.ttest_rel(a=in_order_size_desc, b=random)"
   ]
  },
  {
   "cell_type": "code",
   "execution_count": 30,
   "metadata": {},
   "outputs": [
    {
     "data": {
      "text/plain": [
       "WilcoxonResult(statistic=71675.0, pvalue=0.37736835944326796)"
      ]
     },
     "execution_count": 30,
     "metadata": {},
     "output_type": "execute_result"
    }
   ],
   "source": [
    "st.wilcoxon(in_order_size_desc, random)"
   ]
  },
  {
   "cell_type": "code",
   "execution_count": 31,
   "metadata": {},
   "outputs": [
    {
     "data": {
      "text/plain": [
       "Ttest_relResult(statistic=-1.8415445448583654, pvalue=0.06603603168825607)"
      ]
     },
     "execution_count": 31,
     "metadata": {},
     "output_type": "execute_result"
    }
   ],
   "source": [
    "st.ttest_rel(a=in_order_size_asc, b=random)"
   ]
  },
  {
   "cell_type": "code",
   "execution_count": 32,
   "metadata": {},
   "outputs": [
    {
     "data": {
      "text/plain": [
       "WilcoxonResult(statistic=67802.0, pvalue=0.19318782206091145)"
      ]
     },
     "execution_count": 32,
     "metadata": {},
     "output_type": "execute_result"
    }
   ],
   "source": [
    "st.wilcoxon(in_order_size_asc, random)"
   ]
  },
  {
   "cell_type": "code",
   "execution_count": 33,
   "metadata": {},
   "outputs": [
    {
     "name": "stdout",
     "output_type": "stream",
     "text": [
      "22255.28\n",
      "22243.43666666667\n",
      "22236.781666666666\n",
      "22280.158333333333\n"
     ]
    }
   ],
   "source": [
    "print (np.mean(as_declared))\n",
    "print (np.mean(in_order_size_desc))\n",
    "print (np.mean(in_order_size_asc))\n",
    "print (np.mean(random))"
   ]
  },
  {
   "cell_type": "markdown",
   "metadata": {},
   "source": [
    "## RQ3: Test for the impact of the order of the test contexts (tTest)"
   ]
  },
  {
   "cell_type": "markdown",
   "metadata": {},
   "source": [
    "### Impact on size"
   ]
  },
  {
   "cell_type": "code",
   "execution_count": 34,
   "metadata": {},
   "outputs": [
    {
     "data": {
      "text/plain": [
       "Ttest_relResult(statistic=5.605664141776816, pvalue=2.572522018824466e-08)"
      ]
     },
     "execution_count": 34,
     "metadata": {},
     "output_type": "execute_result"
    }
   ],
   "source": [
    "from scipy import stats as st\n",
    "non_ordering = df32.loc[df32['isSortingEnabled'] == False, 'size'].to_numpy()\n",
    "ordering = df32.loc[df32['isSortingEnabled'] == True, 'size'].to_numpy()\n",
    "st.ttest_rel(a=non_ordering, b=ordering)"
   ]
  },
  {
   "cell_type": "code",
   "execution_count": 35,
   "metadata": {},
   "outputs": [
    {
     "data": {
      "text/plain": [
       "WilcoxonResult(statistic=203148.5, pvalue=0.00036906535421914514)"
      ]
     },
     "execution_count": 35,
     "metadata": {},
     "output_type": "execute_result"
    }
   ],
   "source": [
    "st.wilcoxon(non_ordering, ordering)"
   ]
  },
  {
   "cell_type": "code",
   "execution_count": 36,
   "metadata": {},
   "outputs": [
    {
     "name": "stdout",
     "output_type": "stream",
     "text": [
      "736.3533333333334\n",
      "729.8891666666667\n"
     ]
    }
   ],
   "source": [
    "print (np.mean(non_ordering))\n",
    "print (np.mean(ordering))"
   ]
  },
  {
   "cell_type": "markdown",
   "metadata": {},
   "source": [
    "### Impact on time"
   ]
  },
  {
   "cell_type": "code",
   "execution_count": 37,
   "metadata": {},
   "outputs": [
    {
     "data": {
      "text/plain": [
       "Ttest_relResult(statistic=-3.627261398870016, pvalue=0.0002984797700187351)"
      ]
     },
     "execution_count": 37,
     "metadata": {},
     "output_type": "execute_result"
    }
   ],
   "source": [
    "non_ordering = df32.loc[df32['isSortingEnabled'] == False, 'time'].to_numpy()\n",
    "ordering = df32.loc[df32['isSortingEnabled'] == True, 'time'].to_numpy()\n",
    "st.ttest_rel(a=non_ordering, b=ordering)"
   ]
  },
  {
   "cell_type": "code",
   "execution_count": 38,
   "metadata": {},
   "outputs": [
    {
     "data": {
      "text/plain": [
       "WilcoxonResult(statistic=289901.0, pvalue=0.16974442123441136)"
      ]
     },
     "execution_count": 38,
     "metadata": {},
     "output_type": "execute_result"
    }
   ],
   "source": [
    "st.wilcoxon(non_ordering, ordering)"
   ]
  },
  {
   "cell_type": "code",
   "execution_count": 39,
   "metadata": {},
   "outputs": [
    {
     "name": "stdout",
     "output_type": "stream",
     "text": [
      "21996.0075\n",
      "22511.820833333335\n"
     ]
    }
   ],
   "source": [
    "print (np.mean(non_ordering))\n",
    "print (np.mean(ordering))"
   ]
  },
  {
   "cell_type": "markdown",
   "metadata": {},
   "source": [
    "## RQ4: Impact of multithread"
   ]
  },
  {
   "cell_type": "code",
   "execution_count": 40,
   "metadata": {},
   "outputs": [],
   "source": [
    "nThreads = [1, 2, 4, 8, 16, 32]\n",
    "\n",
    "# Summary values dataframes\n",
    "summary_values_time = pd.DataFrame(columns=[\"fileName\", \"1\", \"2\", \"4\", \"8\", \"16\", \"32\"])\n",
    "summary_values_size = pd.DataFrame(columns=[\"fileName\", \"1\", \"2\", \"4\", \"8\", \"16\", \"32\"])"
   ]
  },
  {
   "cell_type": "markdown",
   "metadata": {},
   "source": [
    "### Time"
   ]
  },
  {
   "cell_type": "code",
   "execution_count": 41,
   "metadata": {},
   "outputs": [],
   "source": [
    "# Fill the time dataframe\n",
    "summary_values_time['fileName'] = df.loc[df.nThreads.eq(32), 'fileName']\n",
    "\n",
    "for n in nThreads:\n",
    "    summary_values_time.loc[:,str(n)] = df[df.nThreads.eq(n)]['time'].to_numpy().tolist()"
   ]
  },
  {
   "cell_type": "code",
   "execution_count": 42,
   "metadata": {},
   "outputs": [],
   "source": [
    "# Compute the average in order to scale the values\n",
    "means = (summary_values_time['1'] + summary_values_time['2'] + summary_values_time['4'] + summary_values_time['8'] + summary_values_time['16'] + summary_values_time['32'])/6\n",
    "summary_values_time['1'] = summary_values_time['1'] / means\n",
    "summary_values_time['2'] = summary_values_time['2'] / means\n",
    "summary_values_time['4'] = summary_values_time['4'] / means\n",
    "summary_values_time['8'] = summary_values_time['8'] / means\n",
    "summary_values_time['16'] = summary_values_time['16'] / means\n",
    "summary_values_time['32'] = summary_values_time['32'] / means"
   ]
  },
  {
   "cell_type": "code",
   "execution_count": 43,
   "metadata": {
    "scrolled": false
   },
   "outputs": [
    {
     "data": {
      "text/plain": [
       "Text(0, 0.5, 'Time/Avg.Time [ms]')"
      ]
     },
     "execution_count": 43,
     "metadata": {},
     "output_type": "execute_result"
    },
    {
     "data": {
      "image/png": "[encoded data removed]",
      "text/plain": [
       "<Figure size 432x288 with 1 Axes>"
      ]
     },
     "metadata": {
      "needs_background": "light"
     },
     "output_type": "display_data"
    }
   ],
   "source": [
    "# Plot the box-plot regarding time\n",
    "boxplot = remove_outlier(remove_outlier(remove_outlier(remove_outlier(remove_outlier(remove_outlier(summary_values_time, '1'), '2'),'4'),'8'),'16'),'32').boxplot(column=['1', '2', '4', '8', '16', '32'], grid=False,)  \n",
    "boxplot.set_xlabel(\"Numer of Threads\")\n",
    "boxplot.set_ylabel(\"Time/Avg.Time [ms]\")"
   ]
  },
  {
   "cell_type": "markdown",
   "metadata": {},
   "source": [
    "### Sum of times"
   ]
  },
  {
   "cell_type": "code",
   "execution_count": 44,
   "metadata": {},
   "outputs": [
    {
     "data": {
      "text/plain": [
       "Text(0, 0.5, 'Sum of Time')"
      ]
     },
     "execution_count": 44,
     "metadata": {},
     "output_type": "execute_result"
    },
    {
     "data": {
      "image/png": "[encoded data removed]",
      "text/plain": [
       "<Figure size 504x360 with 1 Axes>"
      ]
     },
     "metadata": {
      "needs_background": "light"
     },
     "output_type": "display_data"
    }
   ],
   "source": [
    "df_new = pd.read_csv ('outputWIndex.csv', sep=';')\n",
    "\n",
    "time_sum = pd.DataFrame(columns=[\"1\", \"2\", \"4\", \"8\", \"16\", \"32\"])\n",
    "\n",
    "for i in range(1,81):\n",
    "    time_sum.loc[len(time_sum.index)] = [df_new[(df_new.indexVal == i) & df_new.nThreads.eq(1)]['time'].sum().astype(int), \n",
    "                                        df_new[(df_new.indexVal == i) & df_new.nThreads.eq(2)]['time'].sum().astype(int),\n",
    "                                        df_new[(df_new.indexVal == i) & df_new.nThreads.eq(4)]['time'].sum().astype(int),\n",
    "                                        df_new[(df_new.indexVal == i) & df_new.nThreads.eq(8)]['time'].sum().astype(int),\n",
    "                                        df_new[(df_new.indexVal == i) & df_new.nThreads.eq(16)]['time'].sum().astype(int),\n",
    "                                        df_new[(df_new.indexVal == i) & df_new.nThreads.eq(32)]['time'].sum().astype(int)]\n",
    "\n",
    "fig = plt.figure(figsize =(7, 5))\n",
    "ax = fig.add_subplot(111)\n",
    "ax.boxplot(time_sum)\n",
    "ax.set\n",
    "ax.set_xticklabels(nThreads)\n",
    "ax.set_xlabel(\"Numer of Threads\")\n",
    "ax.set_ylabel(\"Sum of Time\")"
   ]
  },
  {
   "cell_type": "markdown",
   "metadata": {},
   "source": [
    "### Size"
   ]
  },
  {
   "cell_type": "code",
   "execution_count": 45,
   "metadata": {},
   "outputs": [],
   "source": [
    "# Fill the size dataframe\n",
    "summary_values_size['fileName'] = df.loc[df.nThreads.eq(32), 'fileName']\n",
    "\n",
    "for n in nThreads:\n",
    "    summary_values_size.loc[:,str(n)] = df[df.nThreads.eq(n)]['size'].to_numpy().tolist()"
   ]
  },
  {
   "cell_type": "code",
   "execution_count": 46,
   "metadata": {},
   "outputs": [],
   "source": [
    "# Compute the average in order to scale the values\n",
    "means = (summary_values_size['1'] + summary_values_size['2'] + summary_values_size['4'] + summary_values_size['8'] + summary_values_size['16'] + summary_values_size['32'])/6\n",
    "summary_values_size['1'] = summary_values_size['1'] / means\n",
    "summary_values_size['2'] = summary_values_size['2'] / means\n",
    "summary_values_size['4'] = summary_values_size['4'] / means\n",
    "summary_values_size['8'] = summary_values_size['8'] / means\n",
    "summary_values_size['16'] = summary_values_size['16'] / means\n",
    "summary_values_size['32'] = summary_values_size['32'] / means"
   ]
  },
  {
   "cell_type": "code",
   "execution_count": 47,
   "metadata": {},
   "outputs": [
    {
     "data": {
      "text/plain": [
       "Text(0, 0.5, 'Size/Avg.Size [Number of test cases]')"
      ]
     },
     "execution_count": 47,
     "metadata": {},
     "output_type": "execute_result"
    },
    {
     "data": {
      "image/png": "[encoded data removed]",
      "text/plain": [
       "<Figure size 432x288 with 1 Axes>"
      ]
     },
     "metadata": {
      "needs_background": "light"
     },
     "output_type": "display_data"
    }
   ],
   "source": [
    "# Plot the box-plot regarding size\n",
    "boxplot = remove_outlier(remove_outlier(remove_outlier(summary_values_size, '1'), '16'),'8').boxplot(column=['1', '2', '4', '8', '16', '32'], grid=False)  \n",
    "boxplot.set_xlabel(\"Numer of Threads\")\n",
    "boxplot.set_ylabel(\"Size/Avg.Size [Number of test cases]\")"
   ]
  },
  {
   "cell_type": "markdown",
   "metadata": {},
   "source": [
    "### Sum of size"
   ]
  },
  {
   "cell_type": "code",
   "execution_count": 48,
   "metadata": {
    "scrolled": true
   },
   "outputs": [
    {
     "data": {
      "text/plain": [
       "Text(0, 0.5, 'Sum of Size')"
      ]
     },
     "execution_count": 48,
     "metadata": {},
     "output_type": "execute_result"
    },
    {
     "data": {
      "image/png": "[encoded data removed]",
      "text/plain": [
       "<Figure size 504x360 with 1 Axes>"
      ]
     },
     "metadata": {
      "needs_background": "light"
     },
     "output_type": "display_data"
    }
   ],
   "source": [
    "df_new = pd.read_csv ('outputWIndex.csv', sep=';')\n",
    "\n",
    "size_sum = pd.DataFrame(columns=[\"1\", \"2\", \"4\", \"8\", \"16\", \"32\"])\n",
    "#timed_out = df_new[df_new['size'].eq(-1)]['fileName'].unique()\n",
    "\n",
    "#df_new = df_new[~df_new.fileName.isin(timed_out)]\n",
    "\n",
    "for i in range(1,81):\n",
    "    size_sum.loc[len(size_sum.index)] = [df_new[(df_new.indexVal == i) & df_new.nThreads.eq(1)]['size'].sum().astype(int), \n",
    "                                        df_new[(df_new.indexVal == i) & df_new.nThreads.eq(2)]['size'].sum().astype(int),\n",
    "                                        df_new[(df_new.indexVal == i) & df_new.nThreads.eq(4)]['size'].sum().astype(int),\n",
    "                                        df_new[(df_new.indexVal == i) & df_new.nThreads.eq(8)]['size'].sum().astype(int),\n",
    "                                        df_new[(df_new.indexVal == i) & df_new.nThreads.eq(16)]['size'].sum().astype(int),\n",
    "                                        df_new[(df_new.indexVal == i) & df_new.nThreads.eq(32)]['size'].sum().astype(int)]\n",
    "\n",
    "fig = plt.figure(figsize =(7, 5))\n",
    "ax = fig.add_subplot(111)\n",
    "ax.boxplot(size_sum)\n",
    "ax.set\n",
    "ax.set_xticklabels(nThreads)\n",
    "ax.set_xlabel(\"Numer of Threads\")\n",
    "ax.set_ylabel(\"Sum of Size\")\n"
   ]
  },
  {
   "cell_type": "markdown",
   "metadata": {},
   "source": [
    "## RQ5: Comparison with pMEDICI"
   ]
  },
  {
   "cell_type": "code",
   "execution_count": 49,
   "metadata": {},
   "outputs": [],
   "source": [
    "# Load the CSV files containing the results of the comparison\n",
    "df = pd.read_csv ('tools_comparison/aggregated_best.csv', sep=',')\n",
    "df_no_timeout = pd.read_csv ('tools_comparison/aggregated_best_no_timeouts.csv', sep=',')"
   ]
  },
  {
   "cell_type": "markdown",
   "metadata": {},
   "source": [
    "### Number of timeouts"
   ]
  },
  {
   "cell_type": "code",
   "execution_count": 50,
   "metadata": {
    "scrolled": true
   },
   "outputs": [
    {
     "name": "stdout",
     "output_type": "stream",
     "text": [
      "Kali timeouts: 10\n",
      "pMedici timeouts: 9\n"
     ]
    }
   ],
   "source": [
    "print(\"Kali timeouts: \" + str(df[(df.TimeKali.eq(-1)) & (~df.ModelName.str.contains('NUMC'))].shape[0]))\n",
    "print(\"pMedici timeouts: \" + str(df[(df.TimePMedici.eq(-1)) & (~df.ModelName.str.contains('NUMC'))].shape[0]))"
   ]
  },
  {
   "cell_type": "markdown",
   "metadata": {},
   "source": [
    "### Impact on time - Excluding the timeouts and NUMC instances"
   ]
  },
  {
   "cell_type": "code",
   "execution_count": 51,
   "metadata": {
    "scrolled": true
   },
   "outputs": [
    {
     "data": {
      "text/plain": [
       "Ttest_relResult(statistic=4.425860395494458, pvalue=1.481274214959765e-05)"
      ]
     },
     "execution_count": 51,
     "metadata": {},
     "output_type": "execute_result"
    }
   ],
   "source": [
    "data_kali = df_no_timeout.loc[(~df_no_timeout['ModelName'].str.contains('NUMC')),'TimeKali'].to_numpy()\n",
    "data_pMedici = df_no_timeout.loc[(~df_no_timeout['ModelName'].str.contains('NUMC')),'TimePMedici'].to_numpy()\n",
    "st.ttest_rel(a=data_kali, b=data_pMedici)"
   ]
  },
  {
   "cell_type": "code",
   "execution_count": 52,
   "metadata": {},
   "outputs": [
    {
     "data": {
      "text/plain": [
       "WilcoxonResult(statistic=1375.0, pvalue=1.8721984270738727e-32)"
      ]
     },
     "execution_count": 52,
     "metadata": {},
     "output_type": "execute_result"
    }
   ],
   "source": [
    "st.wilcoxon(data_kali, data_pMedici)"
   ]
  },
  {
   "cell_type": "code",
   "execution_count": 53,
   "metadata": {},
   "outputs": [
    {
     "name": "stdout",
     "output_type": "stream",
     "text": [
      "14.147025862068965\n",
      "8.1075\n"
     ]
    }
   ],
   "source": [
    "print(np.mean(data_kali))\n",
    "print(np.mean(data_pMedici))"
   ]
  },
  {
   "cell_type": "markdown",
   "metadata": {},
   "source": [
    "### Impact on size - Excluding the timeouts and NUMC instances"
   ]
  },
  {
   "cell_type": "code",
   "execution_count": 54,
   "metadata": {},
   "outputs": [
    {
     "data": {
      "text/plain": [
       "Ttest_relResult(statistic=1.3616086919439923, pvalue=0.17464792376157107)"
      ]
     },
     "execution_count": 54,
     "metadata": {},
     "output_type": "execute_result"
    }
   ],
   "source": [
    "data_kali = df_no_timeout.loc[(~df_no_timeout['ModelName'].str.contains('NUMC')),'SizeKali'].to_numpy()\n",
    "data_pMedici = df_no_timeout.loc[(~df_no_timeout['ModelName'].str.contains('NUMC')),'SizePMedici'].to_numpy()\n",
    "st.ttest_rel(a=data_kali, b=data_pMedici)"
   ]
  },
  {
   "cell_type": "code",
   "execution_count": 55,
   "metadata": {},
   "outputs": [
    {
     "data": {
      "text/plain": [
       "WilcoxonResult(statistic=9043.5, pvalue=0.11805281607871068)"
      ]
     },
     "execution_count": 55,
     "metadata": {},
     "output_type": "execute_result"
    }
   ],
   "source": [
    "st.wilcoxon(data_kali, data_pMedici)"
   ]
  },
  {
   "cell_type": "code",
   "execution_count": 56,
   "metadata": {},
   "outputs": [
    {
     "name": "stdout",
     "output_type": "stream",
     "text": [
      "623.3922413793103\n",
      "593.7715517241379\n"
     ]
    }
   ],
   "source": [
    "print(np.mean(data_kali))\n",
    "print(np.mean(data_pMedici))"
   ]
  },
  {
   "cell_type": "markdown",
   "metadata": {},
   "source": [
    "## RQ6: Comparison with ACTS"
   ]
  },
  {
   "cell_type": "markdown",
   "metadata": {},
   "source": [
    "### Number of timeouts"
   ]
  },
  {
   "cell_type": "code",
   "execution_count": 57,
   "metadata": {},
   "outputs": [
    {
     "name": "stdout",
     "output_type": "stream",
     "text": [
      "Kali timeouts: 26\n",
      "ACTS timeouts: 0\n"
     ]
    }
   ],
   "source": [
    "print(\"Kali timeouts: \" + str(df[df.TimeKali.eq(-1)].shape[0]))\n",
    "print(\"ACTS timeouts: \" + str(df[df.TimeActs.eq(-1)].shape[0]))"
   ]
  },
  {
   "cell_type": "markdown",
   "metadata": {},
   "source": [
    "### Impact on time - Excluding the timeouts "
   ]
  },
  {
   "cell_type": "code",
   "execution_count": 58,
   "metadata": {
    "scrolled": true
   },
   "outputs": [
    {
     "data": {
      "text/plain": [
       "Ttest_relResult(statistic=3.8474312986522348, pvalue=0.0001496153496437275)"
      ]
     },
     "execution_count": 58,
     "metadata": {},
     "output_type": "execute_result"
    }
   ],
   "source": [
    "data_kali = df_no_timeout['TimeKali'].to_numpy()\n",
    "data_acts = df_no_timeout['TimeActs'].to_numpy()\n",
    "st.ttest_rel(a=data_kali, b=data_acts)"
   ]
  },
  {
   "cell_type": "code",
   "execution_count": 59,
   "metadata": {},
   "outputs": [
    {
     "data": {
      "text/plain": [
       "WilcoxonResult(statistic=3000.0, pvalue=7.143928282579029e-32)"
      ]
     },
     "execution_count": 59,
     "metadata": {},
     "output_type": "execute_result"
    }
   ],
   "source": [
    "st.wilcoxon(data_kali, data_acts)"
   ]
  },
  {
   "cell_type": "code",
   "execution_count": 60,
   "metadata": {},
   "outputs": [
    {
     "name": "stdout",
     "output_type": "stream",
     "text": [
      "17.276954887218047\n",
      "6.76796992481203\n"
     ]
    }
   ],
   "source": [
    "print(np.mean(data_kali))\n",
    "print(np.mean(data_acts))"
   ]
  },
  {
   "cell_type": "markdown",
   "metadata": {},
   "source": [
    "### Impact on size - Excluding the timeouts"
   ]
  },
  {
   "cell_type": "code",
   "execution_count": 61,
   "metadata": {},
   "outputs": [
    {
     "data": {
      "text/plain": [
       "Ttest_relResult(statistic=1.5780693771858205, pvalue=0.11574259973572622)"
      ]
     },
     "execution_count": 61,
     "metadata": {},
     "output_type": "execute_result"
    }
   ],
   "source": [
    "data_kali = df_no_timeout['SizeKali'].to_numpy()\n",
    "data_acts = df_no_timeout['SizeActs'].to_numpy()\n",
    "st.ttest_rel(a=data_kali, b=data_acts)"
   ]
  },
  {
   "cell_type": "code",
   "execution_count": 62,
   "metadata": {},
   "outputs": [
    {
     "data": {
      "text/plain": [
       "WilcoxonResult(statistic=5831.5, pvalue=2.6161298282073226e-13)"
      ]
     },
     "execution_count": 62,
     "metadata": {},
     "output_type": "execute_result"
    }
   ],
   "source": [
    "st.wilcoxon(data_kali, data_acts)"
   ]
  },
  {
   "cell_type": "code",
   "execution_count": 63,
   "metadata": {},
   "outputs": [
    {
     "name": "stdout",
     "output_type": "stream",
     "text": [
      "786.672932330827\n",
      "653.9586466165414\n"
     ]
    }
   ],
   "source": [
    "print(np.mean(data_kali))\n",
    "print(np.mean(data_acts))"
   ]
  },
  {
   "cell_type": "code",
   "execution_count": null,
   "metadata": {},
   "outputs": [],
   "source": []
  }
 ],
 "metadata": {
  "kernelspec": {
   "display_name": "Python 3",
   "language": "python",
   "name": "python3"
  },
  "language_info": {
   "codemirror_mode": {
    "name": "ipython",
    "version": 3
   },
   "file_extension": ".py",
   "mimetype": "text/x-python",
   "name": "python",
   "nbconvert_exporter": "python",
   "pygments_lexer": "ipython3",
   "version": "3.8.5"
  },
  "vscode": {
   "interpreter": {
    "hash": "15aa25c0ba074332a8e4732801e26a07bbace72f7ea5bf5054a84c8d7c2693c3"
   }
  }
 },
 "nbformat": 4,
 "nbformat_minor": 5
}
