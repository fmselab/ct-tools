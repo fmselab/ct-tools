{
 "cells": [
  {
   "cell_type": "markdown",
   "metadata": {},
   "source": [
    "# Analysis for the experiments on the SINC scenario"
   ]
  },
  {
   "cell_type": "code",
   "execution_count": 1,
   "metadata": {},
   "outputs": [],
   "source": [
    "# Import all libraries\n",
    "import pandas as pd"
   ]
  },
  {
   "cell_type": "code",
   "execution_count": 2,
   "metadata": {},
   "outputs": [],
   "source": [
    "# Settings\n",
    "fileName = \"resultsSINC.csv\"\n",
    "orderingStrategyPMedici = \"IN_ORDER_SIZE_DESC\""
   ]
  },
  {
   "cell_type": "code",
   "execution_count": 3,
   "metadata": {},
   "outputs": [
    {
     "name": "stderr",
     "output_type": "stream",
     "text": [
      "C:\\Users\\Andrea_PC\\AppData\\Local\\Temp\\ipykernel_8828\\1893749315.py:2: ParserWarning: Length of header or names does not match length of data. This leads to a loss of data with index_col=False.\n",
      "  df = pd.read_csv(fileName, names=['Generator','ModelName','PercentageOfOldTsKept','TSSize','TSTime','Strength','Ordering'], header=0, index_col=False)\n"
     ]
    }
   ],
   "source": [
    "# Load the file into a pandas dataframe\n",
    "df = pd.read_csv(fileName, names=['Generator','ModelName','PercentageOfOldTsKept','TSSize','TSTime','Strength','Ordering'], header=0, index_col=False)\n",
    "# Set Ordering to empty string where it is NaN\n",
    "df['Ordering'].fillna('', inplace=True)"
   ]
  },
  {
   "cell_type": "markdown",
   "metadata": {},
   "source": [
    "## Group all executions"
   ]
  },
  {
   "cell_type": "code",
   "execution_count": 6,
   "metadata": {},
   "outputs": [
    {
     "name": "stdout",
     "output_type": "stream",
     "text": [
      "    Generator          ModelName  PercentageOfOldTsKept  Strength  \\\n",
      "0        ACTS            BOOLC_0                      0         2   \n",
      "1        ACTS            BOOLC_0                    100         3   \n",
      "2        ACTS            BOOLC_1                      0         2   \n",
      "3        ACTS            BOOLC_1                    100         3   \n",
      "4        ACTS            BOOLC_2                      0         2   \n",
      "..        ...                ...                    ...       ...   \n",
      "632  pMEDICI+  UNIFORM_BOOLEAN_5                      0         3   \n",
      "636  pMEDICI+  UNIFORM_BOOLEAN_6                      0         3   \n",
      "640  pMEDICI+  UNIFORM_BOOLEAN_7                      0         3   \n",
      "644  pMEDICI+  UNIFORM_BOOLEAN_8                      0         3   \n",
      "648  pMEDICI+  UNIFORM_BOOLEAN_9                      0         3   \n",
      "\n",
      "               Ordering  TSSize   TSTime  \n",
      "0                          10.0   1114.4  \n",
      "1                          22.0  16287.8  \n",
      "2                          12.0     59.6  \n",
      "3                          29.0     73.0  \n",
      "4                           9.6    145.2  \n",
      "..                  ...     ...      ...  \n",
      "632  IN_ORDER_SIZE_DESC    34.4     22.8  \n",
      "636  IN_ORDER_SIZE_DESC    36.0     25.2  \n",
      "640  IN_ORDER_SIZE_DESC    38.0     44.2  \n",
      "644  IN_ORDER_SIZE_DESC    21.6      2.2  \n",
      "648  IN_ORDER_SIZE_DESC    26.4      4.4  \n",
      "\n",
      "[350 rows x 7 columns]\n"
     ]
    }
   ],
   "source": [
    "# Group data in df by Generator, ModelName, PercentageOfOldTsKept, Strength, and Ordering. For the TSSize and TS time, take the mean\n",
    "df = df.groupby(['Generator','ModelName','PercentageOfOldTsKept','Strength','Ordering']).agg({'TSSize':'mean', 'TSTime':'mean'}).reset_index()\n",
    "# Remove from df all the lines where generator is pMEDICI or pMEDICI+ but Ordering is not equal to orderingStrategyPMedici\n",
    "dfFiltered = df[~(df['Generator'].str.contains('pMEDICI')) | (df['Generator'].str.contains('pMEDICI') & (df['Ordering'] == orderingStrategyPMedici))]\n",
    "print (dfFiltered)"
   ]
  }
 ],
 "metadata": {
  "kernelspec": {
   "display_name": "Python 3",
   "language": "python",
   "name": "python3"
  },
  "language_info": {
   "codemirror_mode": {
    "name": "ipython",
    "version": 3
   },
   "file_extension": ".py",
   "mimetype": "text/x-python",
   "name": "python",
   "nbconvert_exporter": "python",
   "pygments_lexer": "ipython3",
   "version": "3.11.3"
  },
  "orig_nbformat": 4
 },
 "nbformat": 4,
 "nbformat_minor": 2
}
