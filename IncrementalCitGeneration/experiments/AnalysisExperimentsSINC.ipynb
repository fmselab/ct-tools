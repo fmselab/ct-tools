{
 "cells": [
  {
   "cell_type": "markdown",
   "metadata": {},
   "source": [
    "# Analysis for the experiments on the SINC scenario"
   ]
  },
  {
   "cell_type": "code",
   "execution_count": 34,
   "metadata": {},
   "outputs": [],
   "source": [
    "# Import all libraries\n",
    "import pandas as pd\n",
    "import numpy as np\n",
    "import matplotlib.pyplot as plt\n",
    "from scipy.stats import wilcoxon\n",
    "from itertools import combinations"
   ]
  },
  {
   "cell_type": "code",
   "execution_count": 35,
   "metadata": {},
   "outputs": [],
   "source": [
    "# Settings\n",
    "fileName = \"resultsSINC.csv\"\n",
    "orderingStrategyPMedici = \"IN_ORDER_SIZE_DESC\""
   ]
  },
  {
   "cell_type": "code",
   "execution_count": 36,
   "metadata": {},
   "outputs": [],
   "source": [
    "# Load the file into a pandas dataframe\n",
    "df = pd.read_csv(fileName, names=['Generator','ModelName','PercentageOfOldTsKept','TSSize','TSTime','Strength','Ordering', ''], header=0, index_col=False)\n",
    "# Set Ordering to empty string where it is NaN\n",
    "df['Ordering'].fillna('', inplace=True)"
   ]
  },
  {
   "cell_type": "markdown",
   "metadata": {},
   "source": [
    "## Group all executions"
   ]
  },
  {
   "cell_type": "code",
   "execution_count": 37,
   "metadata": {},
   "outputs": [],
   "source": [
    "# Group data in df by Generator, ModelName, PercentageOfOldTsKept, Strength, and Ordering. For the TSSize and TS time, take the mean\n",
    "df = df.groupby(['Generator','ModelName','PercentageOfOldTsKept','Strength','Ordering']).agg({'TSSize':'mean', 'TSTime':'mean'}).reset_index()\n",
    "# Remove from df all the lines where generator is pMEDICI or pMEDICI+ but Ordering is not equal to orderingStrategyPMedici\n",
    "dfFiltered = df[~(df['Generator'].str.contains('pMEDICI')) | (df['Generator'].str.contains('pMEDICI') & (df['Ordering'] == orderingStrategyPMedici))]\n",
    "# Remove rows with strength 2\n",
    "dfFiltered = dfFiltered[dfFiltered['Strength'] != 2]"
   ]
  },
  {
   "cell_type": "code",
   "execution_count": 38,
   "metadata": {},
   "outputs": [
    {
     "name": "stdout",
     "output_type": "stream",
     "text": [
      "              TSTime\n",
      "Generator           \n",
      "ACTS               7\n",
      "ACTS w SEEDS       7\n",
      "PICT              11\n",
      "PICT w SEEDS      11\n",
      "pMEDICI           12\n",
      "pMEDICI+          12\n"
     ]
    }
   ],
   "source": [
    "# Count and print the number of timeouts per Generator\n",
    "print(dfFiltered[dfFiltered['TSTime'] == -1].groupby(['Generator']).agg({'TSTime':'count'}))"
   ]
  },
  {
   "cell_type": "code",
   "execution_count": 39,
   "metadata": {},
   "outputs": [],
   "source": [
    "# Set all timeouts (TSTime = -1) to TSTime = 300001 and with Size = MAX Size\n",
    "dfFiltered.loc[dfFiltered['TSTime'] == -1, 'TSSize'] = 100000\n",
    "dfFiltered.loc[dfFiltered['TSTime'] == -1, 'TSTime'] = 301000"
   ]
  },
  {
   "cell_type": "code",
   "execution_count": 40,
   "metadata": {},
   "outputs": [
    {
     "name": "stdout",
     "output_type": "stream",
     "text": [
      "                 TSTime\n",
      "Generator              \n",
      "ACTS          46046.500\n",
      "ACTS w SEEDS  46070.556\n",
      "PICT          83381.028\n",
      "PICT w SEEDS  82290.972\n",
      "pMEDICI       91942.172\n",
      "pMEDICI+      88655.336\n",
      "                   TSSize\n",
      "Generator                \n",
      "ACTS           867.000000\n",
      "ACTS w SEEDS   867.000000\n",
      "PICT           918.916667\n",
      "PICT w SEEDS   919.888889\n",
      "pMEDICI       1162.833333\n",
      "pMEDICI+      1135.977778\n"
     ]
    }
   ],
   "source": [
    "\n",
    "# Print the average time and size for each Generator\n",
    "# print(dfFiltered.groupby(['Generator']).agg({'TSSize':'mean', 'TSTime':'mean'}))\n",
    "print(dfFiltered.groupby(['Generator']).agg({'TSTime':'mean'}))\n",
    "print(dfFiltered[~dfFiltered['ModelName'].isin(dfFiltered[dfFiltered['TSTime'] == 301000]['ModelName'])].groupby(['Generator']).agg({'TSSize':'mean'}))"
   ]
  },
  {
   "cell_type": "markdown",
   "metadata": {},
   "source": [
    "## Time analysis"
   ]
  },
  {
   "cell_type": "code",
   "execution_count": 41,
   "metadata": {},
   "outputs": [
    {
     "data": {
      "image/png": "[encoded data removed]",
      "text/plain": [
       "<Figure size 400x300 with 1 Axes>"
      ]
     },
     "metadata": {},
     "output_type": "display_data"
    }
   ],
   "source": [
    "# Extract the execution time of different generators\n",
    "dfExecutionTime = dfFiltered[['Generator','TSTime']]\n",
    "\n",
    "# Boxplot the execution time of different generators and remove the outliers\n",
    "ax = dfExecutionTime.boxplot(by='Generator', showfliers=False, grid=False, rot=90)\n",
    "ax.set_yscale('log')\n",
    "ax.set_ylabel('Execution time [ms]')\n",
    "ax.set_xlabel('Generator')\n",
    "ax.set_title('')\n",
    "plt.suptitle('')\n",
    "# Set the figure size\n",
    "fig = plt.gcf()\n",
    "fig.set_size_inches(4, 3)\n",
    "# Export the figure in PDF\n",
    "plt.savefig(\"pictures/SINC_TS_Time.pdf\", bbox_inches='tight')"
   ]
  },
  {
   "cell_type": "code",
   "execution_count": 42,
   "metadata": {},
   "outputs": [
    {
     "name": "stdout",
     "output_type": "stream",
     "text": [
      "ACTS VS ACTS w SEEDS:\n",
      " WilcoxonResult(statistic=271.0, pvalue=0.061694078206530716)\n",
      "ACTS VS PICT:\n",
      " WilcoxonResult(statistic=73.0, pvalue=1.365460984797389e-06)\n",
      "ACTS VS PICT w SEEDS:\n",
      " WilcoxonResult(statistic=75.0, pvalue=1.5407625240149069e-06)\n",
      "ACTS VS pMEDICI:\n",
      " WilcoxonResult(statistic=129.0, pvalue=3.269682875940137e-05)\n",
      "ACTS VS pMEDICI+:\n",
      " WilcoxonResult(statistic=145.0, pvalue=7.47665616607117e-05)\n",
      "ACTS w SEEDS VS PICT:\n",
      " WilcoxonResult(statistic=73.0, pvalue=1.3648574260587254e-06)\n",
      "ACTS w SEEDS VS PICT w SEEDS:\n",
      " WilcoxonResult(statistic=75.0, pvalue=1.5410998768262395e-06)\n",
      "ACTS w SEEDS VS pMEDICI:\n",
      " WilcoxonResult(statistic=129.0, pvalue=3.270224085929715e-05)\n",
      "ACTS w SEEDS VS pMEDICI+:\n",
      " WilcoxonResult(statistic=146.0, pvalue=7.863931395063276e-05)\n",
      "PICT VS PICT w SEEDS:\n",
      " WilcoxonResult(statistic=105.0, pvalue=6.971063689029313e-05)\n",
      "PICT VS pMEDICI:\n",
      " WilcoxonResult(statistic=399.0, pvalue=0.6831322904916168)\n",
      "PICT VS pMEDICI+:\n",
      " WilcoxonResult(statistic=415.0, pvalue=0.840809001483488)\n",
      "PICT w SEEDS VS pMEDICI:\n",
      " WilcoxonResult(statistic=366.0, pvalue=0.4032594687026425)\n",
      "PICT w SEEDS VS pMEDICI+:\n",
      " WilcoxonResult(statistic=419.0, pvalue=0.8815369627226693)\n",
      "pMEDICI VS pMEDICI+:\n",
      " WilcoxonResult(statistic=44.0, pvalue=2.1899543342565946e-06)\n"
     ]
    },
    {
     "name": "stderr",
     "output_type": "stream",
     "text": [
      "c:\\Users\\Andrea_PC\\AppData\\Local\\Programs\\Python\\Python311\\Lib\\site-packages\\scipy\\stats\\_morestats.py:3414: UserWarning: Exact p-value calculation does not work if there are zeros. Switching to normal approximation.\n",
      "  warnings.warn(\"Exact p-value calculation does not work if there are \"\n"
     ]
    }
   ],
   "source": [
    "# Execute a Wilcoxon Signed-Rank test among each couple of Generators investigating the TSTime\n",
    "generators = dfExecutionTime['Generator'].unique()\n",
    "for generator1, generator2 in combinations(generators, 2):\n",
    "    print(generator1 + \" VS \" + generator2 + \":\\n\", wilcoxon(dfExecutionTime[dfExecutionTime['Generator'] == generator1]['TSTime'], dfExecutionTime[dfExecutionTime['Generator'] == generator2]['TSTime']))"
   ]
  },
  {
   "cell_type": "markdown",
   "metadata": {},
   "source": [
    "## Size analysis"
   ]
  },
  {
   "cell_type": "code",
   "execution_count": 43,
   "metadata": {},
   "outputs": [
    {
     "data": {
      "image/png": "[encoded data removed]",
      "text/plain": [
       "<Figure size 400x300 with 1 Axes>"
      ]
     },
     "metadata": {},
     "output_type": "display_data"
    }
   ],
   "source": [
    "# Extract the TS Size of different generators\n",
    "dfTSSize = dfFiltered[~dfFiltered['ModelName'].isin(dfFiltered[dfFiltered['TSTime'] == 301000]['ModelName'])][['Generator','TSSize']]\n",
    "\n",
    "# Boxplot the TS Size of different generators and remove the outliers\n",
    "ax = dfTSSize.boxplot(by='Generator', showfliers=False, grid=False, rot=90)\n",
    "ax.set_yscale('log')\n",
    "ax.set_ylabel('Test suite size')\n",
    "ax.set_xlabel('Generator')\n",
    "ax.set_title('')\n",
    "plt.suptitle('')\n",
    "# Set the figure size\n",
    "fig = plt.gcf()\n",
    "fig.set_size_inches(4, 3)\n",
    "# Export the figure in PDF\n",
    "plt.savefig(\"pictures/SINC_TS_Size.pdf\", bbox_inches='tight')"
   ]
  },
  {
   "cell_type": "code",
   "execution_count": 44,
   "metadata": {},
   "outputs": [
    {
     "name": "stdout",
     "output_type": "stream",
     "text": [
      "ACTS VS ACTS w SEEDS:\n",
      " WilcoxonResult(statistic=333.0, pvalue=1.0)\n",
      "ACTS VS PICT:\n",
      " WilcoxonResult(statistic=299.0, pvalue=0.591648648729259)\n",
      "ACTS VS PICT w SEEDS:\n",
      " WilcoxonResult(statistic=196.5, pvalue=0.030756177735672494)\n",
      "ACTS VS pMEDICI:\n",
      " WilcoxonResult(statistic=0.0, pvalue=2.9103830456733704e-11)\n",
      "ACTS VS pMEDICI+:\n",
      " WilcoxonResult(statistic=2.5, pvalue=2.075723695852939e-07)\n",
      "ACTS w SEEDS VS PICT:\n",
      " WilcoxonResult(statistic=299.0, pvalue=0.591648648729259)\n",
      "ACTS w SEEDS VS PICT w SEEDS:\n",
      " WilcoxonResult(statistic=196.5, pvalue=0.030756177735672494)\n",
      "ACTS w SEEDS VS pMEDICI:\n",
      " WilcoxonResult(statistic=0.0, pvalue=2.9103830456733704e-11)\n",
      "ACTS w SEEDS VS pMEDICI+:\n",
      " WilcoxonResult(statistic=2.5, pvalue=2.075723695852939e-07)\n",
      "PICT VS PICT w SEEDS:\n",
      " WilcoxonResult(statistic=228.0, pvalue=0.0977303645564433)\n",
      "PICT VS pMEDICI:\n",
      " WilcoxonResult(statistic=13.0, pvalue=2.561137080192566e-09)\n",
      "PICT VS pMEDICI+:\n",
      " WilcoxonResult(statistic=9.0, pvalue=9.604264050722122e-10)\n",
      "PICT w SEEDS VS pMEDICI:\n",
      " WilcoxonResult(statistic=22.0, pvalue=1.5599653124809265e-08)\n",
      "PICT w SEEDS VS pMEDICI+:\n",
      " WilcoxonResult(statistic=26.5, pvalue=1.4687604817125122e-06)\n",
      "pMEDICI VS pMEDICI+:\n",
      " WilcoxonResult(statistic=55.0, pvalue=1.636421075090766e-06)\n"
     ]
    },
    {
     "name": "stderr",
     "output_type": "stream",
     "text": [
      "c:\\Users\\Andrea_PC\\AppData\\Local\\Programs\\Python\\Python311\\Lib\\site-packages\\scipy\\stats\\_morestats.py:3414: UserWarning: Exact p-value calculation does not work if there are zeros. Switching to normal approximation.\n",
      "  warnings.warn(\"Exact p-value calculation does not work if there are \"\n"
     ]
    }
   ],
   "source": [
    "# Execute a Wilcoxon Signed-Rank test among each couple of Generators investigating the TSTime\n",
    "generators = dfTSSize['Generator'].unique()\n",
    "for generator1, generator2 in combinations(generators, 2):\n",
    "    if not (generator1 in ['ACTS', 'ACTS W SEEDS'] and generator2 in ['ACTS', 'ACTS W SEEDS']):\n",
    "        print(generator1 + \" VS \" + generator2 + \":\\n\", wilcoxon(dfTSSize[dfTSSize['Generator'] == generator1]['TSSize'], dfTSSize[dfTSSize['Generator'] == generator2]['TSSize'], zero_method='zsplit'))"
   ]
  }
 ],
 "metadata": {
  "kernelspec": {
   "display_name": "Python 3",
   "language": "python",
   "name": "python3"
  },
  "language_info": {
   "codemirror_mode": {
    "name": "ipython",
    "version": 3
   },
   "file_extension": ".py",
   "mimetype": "text/x-python",
   "name": "python",
   "nbconvert_exporter": "python",
   "pygments_lexer": "ipython3",
   "version": "3.11.3"
  },
  "orig_nbformat": 4
 },
 "nbformat": 4,
 "nbformat_minor": 2
}
