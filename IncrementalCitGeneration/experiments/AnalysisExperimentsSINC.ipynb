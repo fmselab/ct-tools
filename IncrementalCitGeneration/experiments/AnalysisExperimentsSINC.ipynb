{
 "cells": [
  {
   "cell_type": "markdown",
   "metadata": {},
   "source": [
    "# Analysis for the experiments on the SINC scenario"
   ]
  },
  {
   "cell_type": "code",
   "execution_count": 14,
   "metadata": {},
   "outputs": [],
   "source": [
    "# Import all libraries\n",
    "import pandas as pd\n",
    "import numpy as np\n",
    "import matplotlib.pyplot as plt\n",
    "from scipy.stats import wilcoxon\n",
    "from itertools import combinations"
   ]
  },
  {
   "cell_type": "code",
   "execution_count": 15,
   "metadata": {},
   "outputs": [],
   "source": [
    "# Settings\n",
    "fileName = \"resultsSINC.csv\"\n",
    "orderingStrategyPMedici = \"IN_ORDER_SIZE_DESC\""
   ]
  },
  {
   "cell_type": "code",
   "execution_count": 16,
   "metadata": {},
   "outputs": [],
   "source": [
    "# Load the file into a pandas dataframe\n",
    "df = pd.read_csv(fileName, names=['Generator','ModelName','PercentageOfOldTsKept','TSSize','TSTime','Strength','Ordering',''], header=0, index_col=False)\n",
    "# Set Ordering to empty string where it is NaN\n",
    "df['Ordering'].fillna('', inplace=True)"
   ]
  },
  {
   "cell_type": "markdown",
   "metadata": {},
   "source": [
    "## Group all executions"
   ]
  },
  {
   "cell_type": "code",
   "execution_count": 17,
   "metadata": {},
   "outputs": [],
   "source": [
    "# Group data in df by Generator, ModelName, PercentageOfOldTsKept, Strength, and Ordering. For the TSSize and TS time, take the mean\n",
    "df = df.groupby(['Generator','ModelName','PercentageOfOldTsKept','Strength','Ordering']).agg({'TSSize':'mean', 'TSTime':'mean'}).reset_index()\n",
    "# Remove from df all the lines where generator is pMEDICI or pMEDICI+ but Ordering is not equal to orderingStrategyPMedici\n",
    "dfFiltered = df[~(df['Generator'].str.contains('pMEDICI')) | (df['Generator'].str.contains('pMEDICI') & (df['Ordering'] == orderingStrategyPMedici))]\n",
    "# Remove rows with strength 2\n",
    "dfFiltered = dfFiltered[dfFiltered['Strength'] != 2]"
   ]
  },
  {
   "cell_type": "code",
   "execution_count": 18,
   "metadata": {},
   "outputs": [
    {
     "name": "stdout",
     "output_type": "stream",
     "text": [
      "              TSTime\n",
      "Generator           \n",
      "ACTS               7\n",
      "ACTS w SEEDS       7\n",
      "PICT               6\n",
      "PICT w SEEDS      10\n",
      "pMEDICI            8\n",
      "pMEDICI+           8\n"
     ]
    }
   ],
   "source": [
    "# Count and print the number of timeouts per Generator\n",
    "print(dfFiltered[dfFiltered['TSTime'] == -1].groupby(['Generator']).agg({'TSTime':'count'}))"
   ]
  },
  {
   "cell_type": "code",
   "execution_count": 19,
   "metadata": {},
   "outputs": [],
   "source": [
    "# Set all timeouts (TSTime = -1) to TSTime = 300001 and with Size = MAX Size\n",
    "dfFiltered.loc[dfFiltered['TSTime'] == -1, 'TSSize'] = 100000\n",
    "dfFiltered.loc[dfFiltered['TSTime'] == -1, 'TSTime'] = 301000"
   ]
  },
  {
   "cell_type": "code",
   "execution_count": 29,
   "metadata": {},
   "outputs": [
    {
     "name": "stdout",
     "output_type": "stream",
     "text": [
      "                 TSTime\n",
      "Generator              \n",
      "ACTS          47093.216\n",
      "ACTS w SEEDS  47091.764\n",
      "PICT          37000.132\n",
      "PICT w SEEDS  60989.148\n",
      "pMEDICI       61978.924\n",
      "pMEDICI+      58385.156\n",
      "                   TSSize\n",
      "Generator                \n",
      "ACTS           864.473684\n",
      "ACTS w SEEDS   864.473684\n",
      "PICT            82.473684\n",
      "PICT w SEEDS    77.489474\n",
      "pMEDICI       1117.684211\n",
      "pMEDICI+      1102.994737\n"
     ]
    }
   ],
   "source": [
    "# Print the average time and size for each Generator\n",
    "# print(dfFiltered.groupby(['Generator']).agg({'TSSize':'mean', 'TSTime':'mean'}))\n",
    "print(dfFiltered.groupby(['Generator']).agg({'TSTime':'mean'}))\n",
    "print(dfFiltered[~dfFiltered['ModelName'].isin(dfFiltered[dfFiltered['TSTime'] == 301000]['ModelName'])].groupby(['Generator']).agg({'TSSize':'mean'}))"
   ]
  },
  {
   "cell_type": "markdown",
   "metadata": {},
   "source": [
    "## Time analysis"
   ]
  },
  {
   "cell_type": "code",
   "execution_count": 21,
   "metadata": {},
   "outputs": [
    {
     "data": {
      "image/png": "[encoded data removed]",
      "text/plain": [
       "<Figure size 400x300 with 1 Axes>"
      ]
     },
     "metadata": {},
     "output_type": "display_data"
    }
   ],
   "source": [
    "# Extract the execution time of different generators\n",
    "dfExecutionTime = dfFiltered[['Generator','TSTime']]\n",
    "\n",
    "# Boxplot the execution time of different generators and remove the outliers\n",
    "ax = dfExecutionTime.boxplot(by='Generator', showfliers=False, grid=False, rot=90)\n",
    "ax.set_yscale('log')\n",
    "ax.set_ylabel('Execution time [ms]')\n",
    "ax.set_xlabel('Generator')\n",
    "ax.set_title('')\n",
    "plt.suptitle('')\n",
    "# Set the figure size\n",
    "fig = plt.gcf()\n",
    "fig.set_size_inches(4, 3)\n",
    "# Export the figure in PDF\n",
    "plt.savefig(\"pictures/SINC_TS_Time.pdf\", bbox_inches='tight')"
   ]
  },
  {
   "cell_type": "code",
   "execution_count": 22,
   "metadata": {},
   "outputs": [
    {
     "name": "stdout",
     "output_type": "stream",
     "text": [
      "ACTS VS ACTS w SEEDS:\n",
      " WilcoxonResult(statistic=111.5, pvalue=0.004345025484754507)\n",
      "ACTS VS PICT:\n",
      " WilcoxonResult(statistic=365.0, pvalue=0.12923511881504018)\n",
      "ACTS VS PICT w SEEDS:\n",
      " WilcoxonResult(statistic=384.0, pvalue=0.28252215647494205)\n",
      "ACTS VS pMEDICI:\n",
      " WilcoxonResult(statistic=280.0, pvalue=0.012104215953983533)\n",
      "ACTS VS pMEDICI+:\n",
      " WilcoxonResult(statistic=304.0, pvalue=0.025812191225012344)\n",
      "ACTS w SEEDS VS PICT:\n",
      " WilcoxonResult(statistic=360.0, pvalue=0.11514352150123057)\n",
      "ACTS w SEEDS VS PICT w SEEDS:\n",
      " WilcoxonResult(statistic=428.0, pvalue=0.5868731085604295)\n",
      "ACTS w SEEDS VS pMEDICI:\n",
      " WilcoxonResult(statistic=281.0, pvalue=0.012510026205973464)\n",
      "ACTS w SEEDS VS pMEDICI+:\n",
      " WilcoxonResult(statistic=308.0, pvalue=0.02908548066460407)\n",
      "PICT VS PICT w SEEDS:\n",
      " WilcoxonResult(statistic=188.5, pvalue=0.0003472698376027488)\n",
      "PICT VS pMEDICI:\n",
      " WilcoxonResult(statistic=121.5, pvalue=1.307231190184465e-05)\n",
      "PICT VS pMEDICI+:\n",
      " WilcoxonResult(statistic=227.0, pvalue=0.0017623289466845572)\n",
      "PICT w SEEDS VS pMEDICI:\n",
      " WilcoxonResult(statistic=322.0, pvalue=0.04349132514964032)\n",
      "PICT w SEEDS VS pMEDICI+:\n",
      " WilcoxonResult(statistic=423.0, pvalue=0.4007620533154559)\n",
      "pMEDICI VS pMEDICI+:\n",
      " WilcoxonResult(statistic=68.0, pvalue=1.6251107579189222e-06)\n"
     ]
    },
    {
     "name": "stderr",
     "output_type": "stream",
     "text": [
      "c:\\Users\\Andrea_PC\\AppData\\Local\\Programs\\Python\\Python311\\Lib\\site-packages\\scipy\\stats\\_morestats.py:3414: UserWarning: Exact p-value calculation does not work if there are zeros. Switching to normal approximation.\n",
      "  warnings.warn(\"Exact p-value calculation does not work if there are \"\n"
     ]
    }
   ],
   "source": [
    "# Execute a Wilcoxon Signed-Rank test among each couple of Generators investigating the TSTime\n",
    "generators = dfExecutionTime['Generator'].unique()\n",
    "for generator1, generator2 in combinations(generators, 2):\n",
    "    print(generator1 + \" VS \" + generator2 + \":\\n\", wilcoxon(dfExecutionTime[dfExecutionTime['Generator'] == generator1]['TSTime'], dfExecutionTime[dfExecutionTime['Generator'] == generator2]['TSTime']))"
   ]
  },
  {
   "cell_type": "markdown",
   "metadata": {},
   "source": [
    "## Size analysis"
   ]
  },
  {
   "cell_type": "code",
   "execution_count": 32,
   "metadata": {},
   "outputs": [
    {
     "data": {
      "image/png": "[encoded data removed]",
      "text/plain": [
       "<Figure size 400x300 with 1 Axes>"
      ]
     },
     "metadata": {},
     "output_type": "display_data"
    }
   ],
   "source": [
    "# Extract the TS Size of different generators\n",
    "dfTSSize = dfFiltered[~dfFiltered['ModelName'].isin(dfFiltered[dfFiltered['TSTime'] == 301000]['ModelName'])][['Generator','TSSize']]\n",
    "\n",
    "# Boxplot the TS Size of different generators and remove the outliers\n",
    "ax = dfTSSize.boxplot(by='Generator', showfliers=False, grid=False, rot=90)\n",
    "ax.set_yscale('log')\n",
    "ax.set_ylabel('Test suite size')\n",
    "ax.set_xlabel('Generator')\n",
    "ax.set_title('')\n",
    "plt.suptitle('')\n",
    "# Set the figure size\n",
    "fig = plt.gcf()\n",
    "fig.set_size_inches(4, 3)\n",
    "# Export the figure in PDF\n",
    "plt.savefig(\"pictures/SINC_TS_Size.pdf\", bbox_inches='tight')"
   ]
  },
  {
   "cell_type": "code",
   "execution_count": 31,
   "metadata": {},
   "outputs": [
    {
     "name": "stdout",
     "output_type": "stream",
     "text": [
      "ACTS VS ACTS w SEEDS:\n",
      " WilcoxonResult(statistic=370.5, pvalue=1.0)\n",
      "ACTS VS PICT:\n",
      " WilcoxonResult(statistic=0.0, pvalue=7.275957614183426e-12)\n",
      "ACTS VS PICT w SEEDS:\n",
      " WilcoxonResult(statistic=0.0, pvalue=7.275957614183426e-12)\n",
      "ACTS VS pMEDICI:\n",
      " WilcoxonResult(statistic=0.0, pvalue=7.275957614183426e-12)\n",
      "ACTS VS pMEDICI+:\n",
      " WilcoxonResult(statistic=0.0, pvalue=7.275957614183426e-12)\n",
      "ACTS w SEEDS VS PICT:\n",
      " WilcoxonResult(statistic=0.0, pvalue=7.275957614183426e-12)\n",
      "ACTS w SEEDS VS PICT w SEEDS:\n",
      " WilcoxonResult(statistic=0.0, pvalue=7.275957614183426e-12)\n",
      "ACTS w SEEDS VS pMEDICI:\n",
      " WilcoxonResult(statistic=0.0, pvalue=7.275957614183426e-12)\n",
      "ACTS w SEEDS VS pMEDICI+:\n",
      " WilcoxonResult(statistic=0.0, pvalue=7.275957614183426e-12)\n",
      "PICT VS PICT w SEEDS:\n",
      " WilcoxonResult(statistic=323.0, pvalue=0.489257689337926)\n",
      "PICT VS pMEDICI:\n",
      " WilcoxonResult(statistic=0.0, pvalue=7.275957614183426e-12)\n",
      "PICT VS pMEDICI+:\n",
      " WilcoxonResult(statistic=0.0, pvalue=7.275957614183426e-12)\n",
      "PICT w SEEDS VS pMEDICI:\n",
      " WilcoxonResult(statistic=0.0, pvalue=7.275957614183426e-12)\n",
      "PICT w SEEDS VS pMEDICI+:\n",
      " WilcoxonResult(statistic=0.0, pvalue=7.275957614183426e-12)\n",
      "pMEDICI VS pMEDICI+:\n",
      " WilcoxonResult(statistic=120.0, pvalue=0.00027966642058361376)\n"
     ]
    },
    {
     "name": "stderr",
     "output_type": "stream",
     "text": [
      "c:\\Users\\Andrea_PC\\AppData\\Local\\Programs\\Python\\Python311\\Lib\\site-packages\\scipy\\stats\\_morestats.py:3414: UserWarning: Exact p-value calculation does not work if there are zeros. Switching to normal approximation.\n",
      "  warnings.warn(\"Exact p-value calculation does not work if there are \"\n"
     ]
    }
   ],
   "source": [
    "# Execute a Wilcoxon Signed-Rank test among each couple of Generators investigating the TSTime\n",
    "generators = dfTSSize['Generator'].unique()\n",
    "for generator1, generator2 in combinations(generators, 2):\n",
    "    if not (generator1 in ['ACTS', 'ACTS W SEEDS'] and generator2 in ['ACTS', 'ACTS W SEEDS']):\n",
    "        print(generator1 + \" VS \" + generator2 + \":\\n\", wilcoxon(dfTSSize[dfTSSize['Generator'] == generator1]['TSSize'], dfTSSize[dfTSSize['Generator'] == generator2]['TSSize'], zero_method='zsplit'))"
   ]
  }
 ],
 "metadata": {
  "kernelspec": {
   "display_name": "Python 3",
   "language": "python",
   "name": "python3"
  },
  "language_info": {
   "codemirror_mode": {
    "name": "ipython",
    "version": 3
   },
   "file_extension": ".py",
   "mimetype": "text/x-python",
   "name": "python",
   "nbconvert_exporter": "python",
   "pygments_lexer": "ipython3",
   "version": "3.11.3"
  },
  "orig_nbformat": 4
 },
 "nbformat": 4,
 "nbformat_minor": 2
}
