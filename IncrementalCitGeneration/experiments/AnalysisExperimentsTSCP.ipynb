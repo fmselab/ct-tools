{
 "cells": [
  {
   "cell_type": "markdown",
   "metadata": {},
   "source": [
    "# Analysis for the experiments on the TSCP scenario"
   ]
  },
  {
   "cell_type": "code",
   "execution_count": 1,
   "metadata": {},
   "outputs": [],
   "source": [
    "# Import all libraries\n",
    "import pandas as pd\n",
    "import numpy as np\n",
    "import matplotlib.pyplot as plt\n",
    "from scipy.stats import wilcoxon\n",
    "from itertools import combinations"
   ]
  },
  {
   "cell_type": "code",
   "execution_count": 2,
   "metadata": {},
   "outputs": [],
   "source": [
    "# Settings\n",
    "fileName = \"resultsTSCP.csv\"\n",
    "orderingStrategyPMedici = \"IN_ORDER_SIZE_DESC\""
   ]
  },
  {
   "cell_type": "code",
   "execution_count": 3,
   "metadata": {},
   "outputs": [],
   "source": [
    "# Load the file into a pandas dataframe\n",
    "df = pd.read_csv(fileName, names=['Generator','ModelName','PercentageOfOldTsKept','TSSize','TSTime','Strength','Ordering'], header=0, index_col=False, delimiter=';')\t\n",
    "# Set Ordering to empty string where it is NaN\n",
    "df['Ordering'].fillna('', inplace=True)"
   ]
  },
  {
   "cell_type": "markdown",
   "metadata": {},
   "source": [
    "## Group all executions"
   ]
  },
  {
   "cell_type": "code",
   "execution_count": 4,
   "metadata": {},
   "outputs": [],
   "source": [
    "# Group data in df by Generator, ModelName, PercentageOfOldTsKept, Strength, and Ordering. For the TSSize and TS time, take the mean\n",
    "df = df.groupby(['Generator','ModelName','PercentageOfOldTsKept','Strength','Ordering']).agg({'TSSize':'mean', 'TSTime':'mean'}).reset_index()\n",
    "# Remove from df all the lines where generator is pMEDICI or pMEDICI+ but Ordering is not equal to orderingStrategyPMedici\n",
    "dfFiltered = df[~(df['Generator'].str.contains('pMEDICI')) | (df['Generator'].str.contains('pMEDICI') & (df['Ordering'] == orderingStrategyPMedici))]"
   ]
  },
  {
   "cell_type": "code",
   "execution_count": 5,
   "metadata": {},
   "outputs": [
    {
     "name": "stdout",
     "output_type": "stream",
     "text": [
      "           TSTime\n",
      "Generator        \n",
      "PICT          110\n",
      "pMEDICI        66\n",
      "pMEDICI+       66\n"
     ]
    }
   ],
   "source": [
    "# Count and print the number of timeouts per Generator\n",
    "print(dfFiltered[dfFiltered['TSTime'] == -1].groupby(['Generator']).agg({'TSTime':'count'}))"
   ]
  },
  {
   "cell_type": "code",
   "execution_count": 6,
   "metadata": {},
   "outputs": [],
   "source": [
    "# Set all timeouts (TSTime = -1) to TSTime = 300001 and with Size = MAX Size\n",
    "dfFiltered.loc[dfFiltered['TSTime'] == -1, 'TSSize'] = 100000\n",
    "dfFiltered.loc[dfFiltered['TSTime'] == -1, 'TSTime'] = 301000\n",
    "\n",
    "# Remove all the rows corresponding to models for which at least one of the generators timed out\n",
    "# dfFiltered = dfFiltered[~dfFiltered['ModelName'].isin(dfFiltered[dfFiltered['TSTime'] == 301000]['ModelName'])]"
   ]
  },
  {
   "cell_type": "code",
   "execution_count": 7,
   "metadata": {},
   "outputs": [
    {
     "name": "stdout",
     "output_type": "stream",
     "text": [
      "                 TSSize        TSTime\n",
      "Generator                            \n",
      "ACTS         105.533818   9305.420000\n",
      "PICT       20079.350182  60757.706909\n",
      "pMEDICI    12134.221455  37366.713818\n",
      "pMEDICI+   12099.640000  37321.546545\n"
     ]
    }
   ],
   "source": [
    "# Print the average time and size for each Generator\n",
    "print(dfFiltered.groupby(['Generator']).agg({'TSSize':'mean', 'TSTime':'mean'}))"
   ]
  },
  {
   "cell_type": "markdown",
   "metadata": {},
   "source": [
    "## How does the execution time change depending on the PercentageOfTsKept?"
   ]
  },
  {
   "cell_type": "code",
   "execution_count": 8,
   "metadata": {},
   "outputs": [],
   "source": [
    "# Build a dataframe with for each model and PercentageOfOldTsKept the difference between the time required by the generator with PercentageOfOldTsKept = 100 and that with the selected PercentageOfOldTsKept\n",
    "dfDiff = pd.DataFrame(columns=['ModelName','PercentageOfOldTsKept','TSTimeDiff', 'Generator'])\n",
    "for generator in dfFiltered['Generator'].unique():\n",
    "    if (generator == 'pMEDICI'):\n",
    "        continue\n",
    "    for modelName in dfFiltered['ModelName'].unique():\n",
    "        for percentageOfOldTsKept in dfFiltered['PercentageOfOldTsKept'].unique():\n",
    "            dfDiff.loc[len(dfDiff), dfDiff.columns] = {'ModelName':modelName, \n",
    "                                                    'PercentageOfOldTsKept':percentageOfOldTsKept, \n",
    "                                                    'Generator':generator,\n",
    "                                                    'TSTimeDiff':dfFiltered[(dfFiltered['ModelName'] == modelName) & (dfFiltered['PercentageOfOldTsKept'] == percentageOfOldTsKept) \n",
    "                                                                            & (dfFiltered['Generator'] == generator)]['TSTime'].iloc[0] \n",
    "                                                                 - \n",
    "                                                                 dfFiltered[(dfFiltered['ModelName'] == modelName) & (dfFiltered['PercentageOfOldTsKept'] == 100) \n",
    "                                                                            & (dfFiltered['Generator'] == generator)]['TSTime'].iloc[0]\n",
    "                                                    }\n",
    "\n",
    "# Average the TSTimeDiff for each model over the different values of PercentageOfOldTsKept\n",
    "dfDiff = dfDiff.groupby(['PercentageOfOldTsKept', 'Generator']).agg({'TSTimeDiff':'mean'}).reset_index()\n",
    "\n",
    "# Barplot showing the distribution of the TSTimeDiff for each PercentageOfOldTsKept and for each Generator\n",
    "ax = dfDiff.pivot(index='PercentageOfOldTsKept', columns='Generator', values='TSTimeDiff').plot.bar(figsize=(5,3))\n",
    "\n",
    "# ax = dfDiff.sort_values(by = 'PercentageOfOldTsKept').plot.bar(x='PercentageOfOldTsKept', y='TSTimeDiff', figsize=(5,3))\n",
    "ax.set_xlabel(\"Percentage of old test suites removed [%]\")\n",
    "ax.set_ylabel(\"Time difference [ms]\")\n",
    "\n",
    "plt.savefig(\"pictures/TSCP_TS_TimeDiff.pdf\", bbox_inches='tight')"
   ]
  },
  {
   "cell_type": "markdown",
   "metadata": {},
   "source": [
    "## How does the test suite size change depending on the PercentageOfTsKept?"
   ]
  },
  {
   "cell_type": "code",
   "execution_count": null,
   "metadata": {},
   "outputs": [
    {
     "data": {
      "image/png": "[encoded data removed]",
      "text/plain": [
       "<Figure size 500x300 with 1 Axes>"
      ]
     },
     "metadata": {},
     "output_type": "display_data"
    }
   ],
   "source": [
    "# Build a dataframe with for each model and PercentageOfOldTsKept the difference between the time required by the generator with PercentageOfOldTsKept = 100 and that with the selected PercentageOfOldTsKept\n",
    "dfDiff = pd.DataFrame(columns=['ModelName','PercentageOfOldTsKept','TSSizeDiff', 'Generator'])\n",
    "for generator in dfFiltered['Generator'].unique():\n",
    "    if (generator == 'pMEDICI'):\n",
    "        continue\n",
    "    for modelName in dfFiltered['ModelName'].unique():\n",
    "        for percentageOfOldTsKept in dfFiltered['PercentageOfOldTsKept'].unique():\n",
    "            dfDiff.loc[len(dfDiff), dfDiff.columns] = {'ModelName':modelName, \n",
    "                                                    'PercentageOfOldTsKept':percentageOfOldTsKept, \n",
    "                                                    'Generator':generator,\n",
    "                                                    'TSSizeDiff':dfFiltered[(dfFiltered['ModelName'] == modelName) & (dfFiltered['PercentageOfOldTsKept'] == percentageOfOldTsKept) \n",
    "                                                                            & (dfFiltered['Generator'] == generator)]['TSSize'].iloc[0] \n",
    "                                                                 - \n",
    "                                                                 dfFiltered[(dfFiltered['ModelName'] == modelName) & (dfFiltered['PercentageOfOldTsKept'] == 100) \n",
    "                                                                            & (dfFiltered['Generator'] == generator)]['TSSize'].iloc[0]\n",
    "                                                    }\n",
    "        \n",
    "# Average the TSTimeDiff for each model over the different values of PercentageOfOldTsKept\n",
    "dfDiff = dfDiff.groupby(['PercentageOfOldTsKept', 'Generator']).agg({'TSSizeDiff':'mean'}).reset_index()\n",
    "\n",
    "# Barplot showing the distribution of the TSTimeDiff for each PercentageOfOldTsKept and for each Generator\n",
    "ax = dfDiff.pivot(index='PercentageOfOldTsKept', columns='Generator', values='TSSizeDiff').plot.bar(figsize=(5,3))\n",
    "\n",
    "# ax = dfDiff.sort_values(by = 'PercentageOfOldTsKept').plot.bar(x='PercentageOfOldTsKept', y='TSTimeDiff', figsize=(5,3))\n",
    "ax.set_xlabel(\"Percentage of old test suites removed [%]\")\n",
    "ax.set_ylabel(\"Size difference [# test cases]\")\n",
    "\n",
    "plt.savefig(\"pictures/TSCP_TS_SizeDiff.pdf\", bbox_inches='tight')"
   ]
  },
  {
   "cell_type": "code",
   "execution_count": null,
   "metadata": {},
   "outputs": [],
   "source": []
  },
  {
   "cell_type": "markdown",
   "metadata": {},
   "source": [
    "## Summary data"
   ]
  },
  {
   "cell_type": "code",
   "execution_count": null,
   "metadata": {},
   "outputs": [
    {
     "name": "stdout",
     "output_type": "stream",
     "text": [
      "              TSSize     TSTime\n",
      "Generator                      \n",
      "ACTS         104.872   8505.040\n",
      "PICT       20079.032  60694.396\n",
      "pMEDICI    12108.628  37361.788\n",
      "pMEDICI+   12106.632  37326.624\n"
     ]
    }
   ],
   "source": [
    "# Print the average time and size for each Generator\n",
    "dfSummary = dfFiltered[dfFiltered['PercentageOfOldTsKept'] == 80]\n",
    "print(dfSummary.groupby(['Generator']).agg({'TSSize':'mean', 'TSTime':'mean'}))"
   ]
  },
  {
   "cell_type": "markdown",
   "metadata": {},
   "source": [
    "## Time analysis"
   ]
  },
  {
   "cell_type": "code",
   "execution_count": null,
   "metadata": {},
   "outputs": [
    {
     "data": {
      "image/png": "[encoded data removed]",
      "text/plain": [
       "<Figure size 400x300 with 1 Axes>"
      ]
     },
     "metadata": {},
     "output_type": "display_data"
    }
   ],
   "source": [
    "# Filter only data with PercentageOfOldTsKept = 80\n",
    "dfExecutionTime = dfFiltered[dfFiltered['PercentageOfOldTsKept'] == 80]\n",
    "# Extract the execution time of different generators\n",
    "dfExecutionTime = dfExecutionTime[['Generator','TSTime']]\n",
    "# Remove rows referred to pMEDICI\n",
    "dfExecutionTime = dfExecutionTime[~ (dfExecutionTime['Generator'] ==  'pMEDICI')]\n",
    "\n",
    "# Boxplot the execution time of different generators and remove the outliers\n",
    "ax = dfExecutionTime.boxplot(by='Generator', showfliers=False, grid=False, rot=90)\n",
    "ax.set_yscale('log')\n",
    "ax.set_ylabel('Execution time [ms]')\n",
    "ax.set_xlabel('Generator')\n",
    "ax.set_title('')\n",
    "plt.suptitle('')\n",
    "# Set the figure size\n",
    "fig = plt.gcf()\n",
    "fig.set_size_inches(4, 3)\n",
    "# Export the figure in PDF\n",
    "plt.savefig(\"pictures/TSCP_TS_Time.pdf\", bbox_inches='tight')"
   ]
  },
  {
   "cell_type": "code",
   "execution_count": null,
   "metadata": {},
   "outputs": [
    {
     "name": "stdout",
     "output_type": "stream",
     "text": [
      "ACTS VS PICT:\n",
      " WilcoxonResult(statistic=44.0, pvalue=2.630606843467831e-11)\n",
      "ACTS VS pMEDICI+:\n",
      " WilcoxonResult(statistic=365.0, pvalue=0.00784436585604098)\n",
      "PICT VS pMEDICI+:\n",
      " WilcoxonResult(statistic=303.0, pvalue=0.015466119302666422)\n"
     ]
    },
    {
     "name": "stderr",
     "output_type": "stream",
     "text": [
      "c:\\Users\\Andrea_PC\\AppData\\Local\\Programs\\Python\\Python311\\Lib\\site-packages\\scipy\\stats\\_morestats.py:3414: UserWarning: Exact p-value calculation does not work if there are zeros. Switching to normal approximation.\n",
      "  warnings.warn(\"Exact p-value calculation does not work if there are \"\n"
     ]
    }
   ],
   "source": [
    "# Execute a Wilcoxon Signed-Rank test among each couple of Generators investigating the TSTime\n",
    "generators = dfExecutionTime['Generator'].unique()\n",
    "generators = generators[generators != 'pMEDICI']\n",
    "for generator1, generator2 in combinations(generators, 2):\n",
    "    print(generator1 + \" VS \" + generator2 + \":\\n\", wilcoxon(dfExecutionTime[dfExecutionTime['Generator'] == generator1]['TSTime'], dfExecutionTime[dfExecutionTime['Generator'] == generator2]['TSTime']))"
   ]
  },
  {
   "cell_type": "markdown",
   "metadata": {},
   "source": [
    "## Size analysis"
   ]
  },
  {
   "cell_type": "code",
   "execution_count": null,
   "metadata": {},
   "outputs": [
    {
     "data": {
      "image/png": "[encoded data removed]",
      "text/plain": [
       "<Figure size 400x300 with 1 Axes>"
      ]
     },
     "metadata": {},
     "output_type": "display_data"
    }
   ],
   "source": [
    "# Filter only data with PercentageOfOldTsKept = 80\n",
    "dfExecutionSize = dfFiltered[dfFiltered['PercentageOfOldTsKept'] == 80]\n",
    "# Extract the execution time of different generators\n",
    "dfExecutionSize = dfExecutionSize[['Generator','TSSize']]\n",
    "# Remove rows referred to pMEDICI\n",
    "dfExecutionSize = dfExecutionSize[~ (dfExecutionSize['Generator'] ==  'pMEDICI')]\n",
    "\n",
    "# Boxplot the execution time of different generators and remove the outliers\n",
    "ax = dfExecutionSize.boxplot(by='Generator', showfliers=False, grid=False, rot=90)\n",
    "ax.set_yscale('log')\n",
    "ax.set_ylabel('Execution time [ms]')\n",
    "ax.set_xlabel('Generator')\n",
    "ax.set_title('')\n",
    "plt.suptitle('')\n",
    "# Set the figure size\n",
    "fig = plt.gcf()\n",
    "fig.set_size_inches(4, 3)\n",
    "# Export the figure in PDF\n",
    "plt.savefig(\"pictures/TSCP_TS_Size.pdf\", bbox_inches='tight')"
   ]
  },
  {
   "cell_type": "code",
   "execution_count": null,
   "metadata": {},
   "outputs": [
    {
     "name": "stdout",
     "output_type": "stream",
     "text": [
      "ACTS VS PICT:\n",
      " WilcoxonResult(statistic=236.5, pvalue=0.004286816828870894)\n",
      "ACTS VS pMEDICI+:\n",
      " WilcoxonResult(statistic=30.0, pvalue=1.5948836475232034e-08)\n",
      "PICT VS pMEDICI+:\n",
      " WilcoxonResult(statistic=209.0, pvalue=0.0008447384272958093)\n"
     ]
    },
    {
     "name": "stderr",
     "output_type": "stream",
     "text": [
      "c:\\Users\\Andrea_PC\\AppData\\Local\\Programs\\Python\\Python311\\Lib\\site-packages\\scipy\\stats\\_morestats.py:3414: UserWarning: Exact p-value calculation does not work if there are zeros. Switching to normal approximation.\n",
      "  warnings.warn(\"Exact p-value calculation does not work if there are \"\n"
     ]
    }
   ],
   "source": [
    "# Execute a Wilcoxon Signed-Rank test among each couple of Generators investigating the TSTime\n",
    "generators = dfExecutionTime['Generator'].unique()\n",
    "generators = generators[generators != 'pMEDICI']\n",
    "for generator1, generator2 in combinations(generators, 2):\n",
    "    print(generator1 + \" VS \" + generator2 + \":\\n\", wilcoxon(dfExecutionSize[dfExecutionSize['Generator'] == generator1]['TSSize'], dfExecutionSize[dfExecutionSize['Generator'] == generator2]['TSSize']))"
   ]
  }
 ],
 "metadata": {
  "kernelspec": {
   "display_name": "Python 3",
   "language": "python",
   "name": "python3"
  },
  "language_info": {
   "codemirror_mode": {
    "name": "ipython",
    "version": 3
   },
   "file_extension": ".py",
   "mimetype": "text/x-python",
   "name": "python",
   "nbconvert_exporter": "python",
   "pygments_lexer": "ipython3",
   "version": "3.11.3"
  },
  "orig_nbformat": 4
 },
 "nbformat": 4,
 "nbformat_minor": 2
}
