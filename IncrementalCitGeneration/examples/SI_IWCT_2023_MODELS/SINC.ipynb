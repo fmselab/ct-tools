{
 "cells": [
  {
   "cell_type": "code",
   "execution_count": 14,
   "metadata": {},
   "outputs": [],
   "source": [
    "# Import the libraries\n",
    "import pandas as pd\n",
    "import numpy as np\n",
    "import matplotlib.pyplot as plt"
   ]
  },
  {
   "cell_type": "code",
   "execution_count": 30,
   "metadata": {},
   "outputs": [
    {
     "name": "stdout",
     "output_type": "stream",
     "text": [
      "         Generator      ModelName  PercentageOfOldTsKept  TSSize  TSTime  \\\n",
      "0          pMEDICI        BOOLC_7                      0      28   161.0   \n",
      "1     PICT w SEEDS        BOOLC_7                      0      11    29.0   \n",
      "2             PICT        BOOLC_7                    100       0    -1.0   \n",
      "3     ACTS w SEEDS        BOOLC_7                      0      22   194.0   \n",
      "4             ACTS        BOOLC_7                    100      22    18.0   \n",
      "...            ...            ...                    ...     ...     ...   \n",
      "2081       pMEDICI  UNIFORM_ALL_4                    100      83   131.0   \n",
      "2082      pMEDICI+  UNIFORM_ALL_4                      0      87  2732.0   \n",
      "2083       pMEDICI  UNIFORM_ALL_4                    100      88   115.0   \n",
      "2084      pMEDICI+  UNIFORM_ALL_4                      0      83  4000.0   \n",
      "2085       pMEDICI  UNIFORM_ALL_4                    100      86   120.0   \n",
      "\n",
      "      Strength            Ordering  Unnamed: 7  \n",
      "0            2                 nan         NaN  \n",
      "1            3                 nan         NaN  \n",
      "2            3                 nan         NaN  \n",
      "3            3                 nan         NaN  \n",
      "4            3                 nan         NaN  \n",
      "...        ...                 ...         ...  \n",
      "2081         3  IN_ORDER_SIZE_DESC         NaN  \n",
      "2082         3   IN_ORDER_SIZE_ASC         NaN  \n",
      "2083         3   IN_ORDER_SIZE_ASC         NaN  \n",
      "2084         3              RANDOM         NaN  \n",
      "2085         3              RANDOM         NaN  \n",
      "\n",
      "[2086 rows x 8 columns]\n"
     ]
    }
   ],
   "source": [
    "# Load the 'resultsSINC.csv' file into a pandas dataframe\n",
    "df = pd.read_csv('resultsSINC.csv')\n",
    "df['Ordering'] = df['Ordering'].astype('str')\n",
    "print(df[df['Generator'] == 'PICT W SEEDS'])"
   ]
  },
  {
   "cell_type": "code",
   "execution_count": 31,
   "metadata": {},
   "outputs": [
    {
     "name": "stdout",
     "output_type": "stream",
     "text": [
      "   Generator          ModelName  PercentageOfOldTsKept  Strength Ordering  \\\n",
      "64      PICT            BOOLC_0                    100         3      nan   \n",
      "65      PICT            BOOLC_1                    100         3      nan   \n",
      "66      PICT            BOOLC_2                    100         3      nan   \n",
      "67      PICT            BOOLC_5                    100         3      nan   \n",
      "68      PICT            BOOLC_6                    100         3      nan   \n",
      "69      PICT            BOOLC_7                    100         3      nan   \n",
      "70      PICT            BOOLC_9                    100         3      nan   \n",
      "71      PICT             MCAC_3                    100         3      nan   \n",
      "72      PICT             MCAC_9                    100         3      nan   \n",
      "73      PICT              MCA_1                    100         3      nan   \n",
      "74      PICT              MCA_2                    100         3      nan   \n",
      "75      PICT              MCA_3                    100         3      nan   \n",
      "76      PICT              MCA_4                    100         3      nan   \n",
      "77      PICT              MCA_6                    100         3      nan   \n",
      "78      PICT              MCA_7                    100         3      nan   \n",
      "79      PICT              MCA_8                    100         3      nan   \n",
      "80      PICT              MCA_9                    100         3      nan   \n",
      "81      PICT      UNIFORM_ALL_1                    100         3      nan   \n",
      "82      PICT      UNIFORM_ALL_2                    100         3      nan   \n",
      "83      PICT      UNIFORM_ALL_3                    100         3      nan   \n",
      "84      PICT      UNIFORM_ALL_4                    100         3      nan   \n",
      "85      PICT      UNIFORM_ALL_5                    100         3      nan   \n",
      "86      PICT      UNIFORM_ALL_6                    100         3      nan   \n",
      "87      PICT      UNIFORM_ALL_9                    100         3      nan   \n",
      "88      PICT  UNIFORM_BOOLEAN_0                    100         3      nan   \n",
      "89      PICT  UNIFORM_BOOLEAN_2                    100         3      nan   \n",
      "90      PICT  UNIFORM_BOOLEAN_3                    100         3      nan   \n",
      "91      PICT  UNIFORM_BOOLEAN_5                    100         3      nan   \n",
      "92      PICT  UNIFORM_BOOLEAN_6                    100         3      nan   \n",
      "93      PICT  UNIFORM_BOOLEAN_7                    100         3      nan   \n",
      "94      PICT  UNIFORM_BOOLEAN_8                    100         3      nan   \n",
      "95      PICT  UNIFORM_BOOLEAN_9                    100         3      nan   \n",
      "\n",
      "    TSSize  TSTime  \n",
      "64     0.0    -1.0  \n",
      "65     0.0    -1.0  \n",
      "66     0.0    -1.0  \n",
      "67     0.0    -1.0  \n",
      "68     0.0    -1.0  \n",
      "69     0.0    -1.0  \n",
      "70     0.0    -1.0  \n",
      "71     0.0    -1.0  \n",
      "72     0.0    -1.0  \n",
      "73     0.0    -1.0  \n",
      "74     0.0    -1.0  \n",
      "75     0.0    -1.0  \n",
      "76     0.0    -1.0  \n",
      "77     0.0    -1.0  \n",
      "78     0.0    -1.0  \n",
      "79     0.0    -1.0  \n",
      "80     0.0    -1.0  \n",
      "81     0.0    -1.0  \n",
      "82     0.0    -1.0  \n",
      "83     0.0    -1.0  \n",
      "84     0.0    -1.0  \n",
      "85     0.0    -1.0  \n",
      "86     0.0    -1.0  \n",
      "87     0.0    -1.0  \n",
      "88     0.0    -1.0  \n",
      "89     0.0    -1.0  \n",
      "90     0.0    -1.0  \n",
      "91     0.0    -1.0  \n",
      "92     0.0    -1.0  \n",
      "93     0.0    -1.0  \n",
      "94     0.0    -1.0  \n",
      "95     0.0    -1.0  \n"
     ]
    }
   ],
   "source": [
    "# Group the lines by Generator, ModelName, PercentageOfOldTsKept, Strength and Ordering, and use for TSSize and TSTime the average of the values\n",
    "# for each group.\n",
    "dfGrouped = df.groupby(['Generator', 'ModelName', 'PercentageOfOldTsKept', 'Strength', 'Ordering']).agg({'TSSize': 'mean', 'TSTime': 'mean'})\n",
    "dfGrouped = dfGrouped.reset_index()\n",
    "print(dfGrouped[dfGrouped['Generator'] == 'PICT'])\n"
   ]
  }
 ],
 "metadata": {
  "kernelspec": {
   "display_name": "Python 3",
   "language": "python",
   "name": "python3"
  },
  "language_info": {
   "codemirror_mode": {
    "name": "ipython",
    "version": 3
   },
   "file_extension": ".py",
   "mimetype": "text/x-python",
   "name": "python",
   "nbconvert_exporter": "python",
   "pygments_lexer": "ipython3",
   "version": "3.11.3"
  },
  "orig_nbformat": 4
 },
 "nbformat": 4,
 "nbformat_minor": 2
}
